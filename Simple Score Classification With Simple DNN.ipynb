{
 "cells": [
  {
   "cell_type": "code",
   "execution_count": 1,
   "metadata": {},
   "outputs": [
    {
     "name": "stderr",
     "output_type": "stream",
     "text": [
      "C:\\Users\\Fauzan Ramadhan\\Anaconda3\\lib\\site-packages\\h5py\\__init__.py:36: FutureWarning: Conversion of the second argument of issubdtype from `float` to `np.floating` is deprecated. In future, it will be treated as `np.float64 == np.dtype(float).type`.\n",
      "  from ._conv import register_converters as _register_converters\n",
      "Using TensorFlow backend.\n"
     ]
    }
   ],
   "source": [
    "from keras.models import Sequential\n",
    "from keras.layers import Dense"
   ]
  },
  {
   "cell_type": "code",
   "execution_count": 2,
   "metadata": {},
   "outputs": [],
   "source": [
    "import pandas as pd"
   ]
  },
  {
   "cell_type": "code",
   "execution_count": 49,
   "metadata": {},
   "outputs": [
    {
     "data": {
      "text/html": [
       "<div>\n",
       "<style scoped>\n",
       "    .dataframe tbody tr th:only-of-type {\n",
       "        vertical-align: middle;\n",
       "    }\n",
       "\n",
       "    .dataframe tbody tr th {\n",
       "        vertical-align: top;\n",
       "    }\n",
       "\n",
       "    .dataframe thead th {\n",
       "        text-align: right;\n",
       "    }\n",
       "</style>\n",
       "<table border=\"1\" class=\"dataframe\">\n",
       "  <thead>\n",
       "    <tr style=\"text-align: right;\">\n",
       "      <th></th>\n",
       "      <th>gender</th>\n",
       "      <th>race/ethnicity</th>\n",
       "      <th>parental level of education</th>\n",
       "      <th>lunch</th>\n",
       "      <th>test preparation course</th>\n",
       "      <th>math score</th>\n",
       "      <th>reading score</th>\n",
       "      <th>writing score</th>\n",
       "    </tr>\n",
       "  </thead>\n",
       "  <tbody>\n",
       "    <tr>\n",
       "      <th>995</th>\n",
       "      <td>female</td>\n",
       "      <td>group E</td>\n",
       "      <td>master's degree</td>\n",
       "      <td>standard</td>\n",
       "      <td>completed</td>\n",
       "      <td>88</td>\n",
       "      <td>99</td>\n",
       "      <td>95</td>\n",
       "    </tr>\n",
       "    <tr>\n",
       "      <th>996</th>\n",
       "      <td>male</td>\n",
       "      <td>group C</td>\n",
       "      <td>high school</td>\n",
       "      <td>free/reduced</td>\n",
       "      <td>none</td>\n",
       "      <td>62</td>\n",
       "      <td>55</td>\n",
       "      <td>55</td>\n",
       "    </tr>\n",
       "    <tr>\n",
       "      <th>997</th>\n",
       "      <td>female</td>\n",
       "      <td>group C</td>\n",
       "      <td>high school</td>\n",
       "      <td>free/reduced</td>\n",
       "      <td>completed</td>\n",
       "      <td>59</td>\n",
       "      <td>71</td>\n",
       "      <td>65</td>\n",
       "    </tr>\n",
       "    <tr>\n",
       "      <th>998</th>\n",
       "      <td>female</td>\n",
       "      <td>group D</td>\n",
       "      <td>some college</td>\n",
       "      <td>standard</td>\n",
       "      <td>completed</td>\n",
       "      <td>68</td>\n",
       "      <td>78</td>\n",
       "      <td>77</td>\n",
       "    </tr>\n",
       "    <tr>\n",
       "      <th>999</th>\n",
       "      <td>female</td>\n",
       "      <td>group D</td>\n",
       "      <td>some college</td>\n",
       "      <td>free/reduced</td>\n",
       "      <td>none</td>\n",
       "      <td>77</td>\n",
       "      <td>86</td>\n",
       "      <td>86</td>\n",
       "    </tr>\n",
       "  </tbody>\n",
       "</table>\n",
       "</div>"
      ],
      "text/plain": [
       "     gender race/ethnicity parental level of education         lunch  \\\n",
       "995  female        group E             master's degree      standard   \n",
       "996    male        group C                 high school  free/reduced   \n",
       "997  female        group C                 high school  free/reduced   \n",
       "998  female        group D                some college      standard   \n",
       "999  female        group D                some college  free/reduced   \n",
       "\n",
       "    test preparation course  math score  reading score  writing score  \n",
       "995               completed          88             99             95  \n",
       "996                    none          62             55             55  \n",
       "997               completed          59             71             65  \n",
       "998               completed          68             78             77  \n",
       "999                    none          77             86             86  "
      ]
     },
     "execution_count": 49,
     "metadata": {},
     "output_type": "execute_result"
    }
   ],
   "source": [
    "std = pd.read_csv('StudentsPerformance.csv')\n",
    "std.tail()"
   ]
  },
  {
   "cell_type": "code",
   "execution_count": 50,
   "metadata": {},
   "outputs": [
    {
     "data": {
      "text/html": [
       "<div>\n",
       "<style scoped>\n",
       "    .dataframe tbody tr th:only-of-type {\n",
       "        vertical-align: middle;\n",
       "    }\n",
       "\n",
       "    .dataframe tbody tr th {\n",
       "        vertical-align: top;\n",
       "    }\n",
       "\n",
       "    .dataframe thead th {\n",
       "        text-align: right;\n",
       "    }\n",
       "</style>\n",
       "<table border=\"1\" class=\"dataframe\">\n",
       "  <thead>\n",
       "    <tr style=\"text-align: right;\">\n",
       "      <th></th>\n",
       "      <th>gender</th>\n",
       "      <th>group</th>\n",
       "      <th>education</th>\n",
       "      <th>lunch</th>\n",
       "      <th>course_completation</th>\n",
       "      <th>math_score</th>\n",
       "      <th>reading_score</th>\n",
       "      <th>writing_score</th>\n",
       "    </tr>\n",
       "  </thead>\n",
       "  <tbody>\n",
       "    <tr>\n",
       "      <th>0</th>\n",
       "      <td>female</td>\n",
       "      <td>group B</td>\n",
       "      <td>bachelor's degree</td>\n",
       "      <td>standard</td>\n",
       "      <td>none</td>\n",
       "      <td>72</td>\n",
       "      <td>72</td>\n",
       "      <td>74</td>\n",
       "    </tr>\n",
       "    <tr>\n",
       "      <th>1</th>\n",
       "      <td>female</td>\n",
       "      <td>group C</td>\n",
       "      <td>some college</td>\n",
       "      <td>standard</td>\n",
       "      <td>completed</td>\n",
       "      <td>69</td>\n",
       "      <td>90</td>\n",
       "      <td>88</td>\n",
       "    </tr>\n",
       "    <tr>\n",
       "      <th>2</th>\n",
       "      <td>female</td>\n",
       "      <td>group B</td>\n",
       "      <td>master's degree</td>\n",
       "      <td>standard</td>\n",
       "      <td>none</td>\n",
       "      <td>90</td>\n",
       "      <td>95</td>\n",
       "      <td>93</td>\n",
       "    </tr>\n",
       "    <tr>\n",
       "      <th>3</th>\n",
       "      <td>male</td>\n",
       "      <td>group A</td>\n",
       "      <td>associate's degree</td>\n",
       "      <td>free/reduced</td>\n",
       "      <td>none</td>\n",
       "      <td>47</td>\n",
       "      <td>57</td>\n",
       "      <td>44</td>\n",
       "    </tr>\n",
       "    <tr>\n",
       "      <th>4</th>\n",
       "      <td>male</td>\n",
       "      <td>group C</td>\n",
       "      <td>some college</td>\n",
       "      <td>standard</td>\n",
       "      <td>none</td>\n",
       "      <td>76</td>\n",
       "      <td>78</td>\n",
       "      <td>75</td>\n",
       "    </tr>\n",
       "  </tbody>\n",
       "</table>\n",
       "</div>"
      ],
      "text/plain": [
       "   gender    group           education         lunch course_completation  \\\n",
       "0  female  group B   bachelor's degree      standard                none   \n",
       "1  female  group C        some college      standard           completed   \n",
       "2  female  group B     master's degree      standard                none   \n",
       "3    male  group A  associate's degree  free/reduced                none   \n",
       "4    male  group C        some college      standard                none   \n",
       "\n",
       "   math_score  reading_score  writing_score  \n",
       "0          72             72             74  \n",
       "1          69             90             88  \n",
       "2          90             95             93  \n",
       "3          47             57             44  \n",
       "4          76             78             75  "
      ]
     },
     "execution_count": 50,
     "metadata": {},
     "output_type": "execute_result"
    }
   ],
   "source": [
    "std = std.rename(columns={\"race/ethnicity\":\"group\",\"parental level of education\":\"education\",\"test preparation course\":\"course_completation\",\"math score\":\"math_score\",\"reading score\":\"reading_score\",\"writing score\":\"writing_score\"})\n",
    "std.head()"
   ]
  },
  {
   "cell_type": "code",
   "execution_count": 51,
   "metadata": {},
   "outputs": [],
   "source": [
    "std.drop(['lunch', 'education', 'course_completation', 'group', 'reading_score', 'writing_score'], axis=1, inplace=True)"
   ]
  },
  {
   "cell_type": "code",
   "execution_count": 52,
   "metadata": {},
   "outputs": [],
   "source": [
    "from sklearn import preprocessing\n",
    "label_encoder = preprocessing.LabelEncoder()\n",
    "std['gender'] = label_encoder.fit_transform(std['gender'])"
   ]
  },
  {
   "cell_type": "code",
   "execution_count": 53,
   "metadata": {},
   "outputs": [
    {
     "data": {
      "text/plain": [
       "array([0, 1], dtype=int64)"
      ]
     },
     "execution_count": 53,
     "metadata": {},
     "output_type": "execute_result"
    }
   ],
   "source": [
    "std.head()\n",
    "std['gender'].unique()"
   ]
  },
  {
   "cell_type": "code",
   "execution_count": 54,
   "metadata": {},
   "outputs": [],
   "source": [
    "X = std['math_score']\n",
    "y = std['gender']"
   ]
  },
  {
   "cell_type": "code",
   "execution_count": 70,
   "metadata": {},
   "outputs": [],
   "source": [
    "model = Sequential()\n",
    "model.add(Dense(50, input_dim=1, activation='relu'))\n",
    "model.add(Dense(25, activation='relu'))\n",
    "model.add(Dense(1, activation='sigmoid'))"
   ]
  },
  {
   "cell_type": "code",
   "execution_count": 71,
   "metadata": {},
   "outputs": [],
   "source": [
    "model.compile(loss='binary_crossentropy',\n",
    "              optimizer='adam',\n",
    "              metrics=['accuracy'])"
   ]
  },
  {
   "cell_type": "code",
   "execution_count": 72,
   "metadata": {},
   "outputs": [
    {
     "name": "stdout",
     "output_type": "stream",
     "text": [
      "Epoch 1/30\n",
      "1000/1000 [==============================] - 3s 3ms/step - loss: 0.9000 - acc: 0.4710\n",
      "Epoch 2/30\n",
      "1000/1000 [==============================] - 1s 666us/step - loss: 0.7156 - acc: 0.4610\n",
      "Epoch 3/30\n",
      "1000/1000 [==============================] - 1s 587us/step - loss: 0.7142 - acc: 0.4850\n",
      "Epoch 4/30\n",
      "1000/1000 [==============================] - 1s 516us/step - loss: 0.7213 - acc: 0.4890\n",
      "Epoch 5/30\n",
      "1000/1000 [==============================] - 0s 493us/step - loss: 0.7213 - acc: 0.5070\n",
      "Epoch 6/30\n",
      "1000/1000 [==============================] - 1s 538us/step - loss: 0.7104 - acc: 0.5020\n",
      "Epoch 7/30\n",
      "1000/1000 [==============================] - 0s 478us/step - loss: 0.6997 - acc: 0.5320\n",
      "Epoch 8/30\n",
      "1000/1000 [==============================] - 0s 476us/step - loss: 0.7177 - acc: 0.5140\n",
      "Epoch 9/30\n",
      "1000/1000 [==============================] - 1s 692us/step - loss: 0.7166 - acc: 0.5070\n",
      "Epoch 10/30\n",
      "1000/1000 [==============================] - 0s 497us/step - loss: 0.7046 - acc: 0.5280\n",
      "Epoch 11/30\n",
      "1000/1000 [==============================] - 1s 537us/step - loss: 0.7026 - acc: 0.5210\n",
      "Epoch 12/30\n",
      "1000/1000 [==============================] - 1s 1ms/step - loss: 0.7097 - acc: 0.5160\n",
      "Epoch 13/30\n",
      "1000/1000 [==============================] - 1s 628us/step - loss: 0.6988 - acc: 0.5310\n",
      "Epoch 14/30\n",
      "1000/1000 [==============================] - 1s 986us/step - loss: 0.7148 - acc: 0.5050\n",
      "Epoch 15/30\n",
      "1000/1000 [==============================] - 1s 1ms/step - loss: 0.7114 - acc: 0.5220\n",
      "Epoch 16/30\n",
      "1000/1000 [==============================] - 1s 877us/step - loss: 0.7019 - acc: 0.5550\n",
      "Epoch 17/30\n",
      "1000/1000 [==============================] - 2s 2ms/step - loss: 0.6996 - acc: 0.5120\n",
      "Epoch 18/30\n",
      "1000/1000 [==============================] - 1s 649us/step - loss: 0.6994 - acc: 0.5190\n",
      "Epoch 19/30\n",
      "1000/1000 [==============================] - 1s 648us/step - loss: 0.6989 - acc: 0.5180\n",
      "Epoch 20/30\n",
      "1000/1000 [==============================] - 1s 906us/step - loss: 0.6982 - acc: 0.5160\n",
      "Epoch 21/30\n",
      "1000/1000 [==============================] - 1s 791us/step - loss: 0.6976 - acc: 0.5120\n",
      "Epoch 22/30\n",
      "1000/1000 [==============================] - 1s 711us/step - loss: 0.6968 - acc: 0.5530\n",
      "Epoch 23/30\n",
      "1000/1000 [==============================] - 1s 930us/step - loss: 0.7066 - acc: 0.5350\n",
      "Epoch 24/30\n",
      "1000/1000 [==============================] - 1s 899us/step - loss: 0.6880 - acc: 0.5460 0s - loss: 0.6819 \n",
      "Epoch 25/30\n",
      "1000/1000 [==============================] - 1s 970us/step - loss: 0.7020 - acc: 0.5110 0s - loss: 0.7042 - acc: 0.4\n",
      "Epoch 26/30\n",
      "1000/1000 [==============================] - 1s 943us/step - loss: 0.6868 - acc: 0.5560\n",
      "Epoch 27/30\n",
      "1000/1000 [==============================] - 1s 868us/step - loss: 0.6865 - acc: 0.5500\n",
      "Epoch 28/30\n",
      "1000/1000 [==============================] - 1s 909us/step - loss: 0.7073 - acc: 0.5070 0s - loss: 0.7174 - ac\n",
      "Epoch 29/30\n",
      "1000/1000 [==============================] - 1s 925us/step - loss: 0.7091 - acc: 0.5330\n",
      "Epoch 30/30\n",
      "1000/1000 [==============================] - 1s 909us/step - loss: 0.6910 - acc: 0.5400\n"
     ]
    },
    {
     "data": {
      "text/plain": [
       "<keras.callbacks.History at 0x24fbd16afd0>"
      ]
     },
     "execution_count": 72,
     "metadata": {},
     "output_type": "execute_result"
    }
   ],
   "source": [
    "model.fit(X, y, epochs=30, batch_size=10)"
   ]
  },
  {
   "cell_type": "code",
   "execution_count": 73,
   "metadata": {},
   "outputs": [
    {
     "name": "stdout",
     "output_type": "stream",
     "text": [
      "1000/1000 [==============================] - 1s 521us/step\n",
      "Accuracy: 54.90\n"
     ]
    }
   ],
   "source": [
    "_, accuracy = model.evaluate(X, y)\n",
    "print('Accuracy: %.2f' % (accuracy*100))"
   ]
  },
  {
   "cell_type": "code",
   "execution_count": null,
   "metadata": {},
   "outputs": [],
   "source": []
  }
 ],
 "metadata": {
  "kernelspec": {
   "display_name": "Python 3",
   "language": "python",
   "name": "python3"
  },
  "language_info": {
   "codemirror_mode": {
    "name": "ipython",
    "version": 3
   },
   "file_extension": ".py",
   "mimetype": "text/x-python",
   "name": "python",
   "nbconvert_exporter": "python",
   "pygments_lexer": "ipython3",
   "version": "3.6.4"
  }
 },
 "nbformat": 4,
 "nbformat_minor": 2
}
