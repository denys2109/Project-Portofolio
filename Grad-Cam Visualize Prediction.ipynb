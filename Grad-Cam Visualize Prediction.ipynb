{
 "cells": [
  {
   "cell_type": "code",
   "execution_count": 15,
   "id": "380f32e1",
   "metadata": {},
   "outputs": [],
   "source": [
    "import os\n",
    "import random\n",
    "from tqdm import tqdm\n",
    "import numpy as np\n",
    "import pandas as pd\n",
    "import matplotlib.pyplot as plt\n",
    "import seaborn as sns\n",
    "import cv2\n",
    "import random\n",
    "from IPython.display import Image\n",
    "import imutils   \n",
    "import seaborn as sns\n",
    "\n",
    "from sklearn.metrics import accuracy_score, confusion_matrix, plot_confusion_matrix, classification_report\n",
    "\n",
    "import keras\n",
    "import tensorflow.keras as K\n",
    "\n",
    "import tensorflow as tf\n",
    "from tensorflow.keras.preprocessing.image import load_img, ImageDataGenerator, array_to_img, img_to_array\n",
    "# from tensorflow.keras.applications import EfficientNetB1\n",
    "# from tensorflow.keras.applications import EfficientNetB2\n",
    "# from tensorflow.keras.applications import EfficientNetB3\n",
    "# from tensorflow.keras.applications import MobileNet\n",
    "# from tensorflow.keras.applications import ResNet50\n",
    "from tensorflow.keras.models import Model\n",
    "from tensorflow.keras.layers import Flatten, Dense, Conv2D, Dropout, GlobalAveragePooling2D\n",
    "from tensorflow.keras.optimizers import Adam\n",
    "from tensorflow.keras.callbacks import ModelCheckpoint, EarlyStopping, ReduceLROnPlateau   \n",
    "from tensorflow.keras.models import load_model\n",
    "\n",
    "os.environ[\"CUDA_VISIBLE_DEVICES\"] = \"1\""
   ]
  },
  {
   "cell_type": "code",
   "execution_count": 16,
   "id": "3bea1e66",
   "metadata": {},
   "outputs": [],
   "source": [
    "#https://github.com/gkeechin/vizgradcam/blob/main/gradcam.py\n",
    "\n",
    "def VizGradCAM(model, image, interpolant=0.5, plot_results=True):\n",
    "\n",
    "    \"\"\"VizGradCAM - Displays GradCAM based on Keras / TensorFlow models\n",
    "    using the gradients from the last convolutional layer. This function\n",
    "    should work with all Keras Application listed here:\n",
    "    https://keras.io/api/applications/\n",
    "    Parameters:\n",
    "    model (keras.model): Compiled Model with Weights Loaded\n",
    "    image: Image to Perform Inference On\n",
    "    plot_results (boolean): True - Function Plots using PLT\n",
    "                            False - Returns Heatmap Array\n",
    "    Returns:\n",
    "    Heatmap Array?\n",
    "    \"\"\"\n",
    "    #sanity check\n",
    "    assert (interpolant > 0 and interpolant < 1), \"Heatmap Interpolation Must Be Between 0 - 1\"\n",
    "\n",
    "    #STEP 1: Preprocesss image and make prediction using our model\n",
    "    #input image\n",
    "    original_img = np.asarray(image, dtype = np.float32)\n",
    "    #expamd dimension and get batch size\n",
    "    img = np.expand_dims(original_img, axis=0)\n",
    "    #predict\n",
    "    prediction = model.predict(img)\n",
    "    #prediction index\n",
    "    prediction_idx = np.argmax(prediction)\n",
    "\n",
    "    #STEP 2: Create new model\n",
    "    #specify last convolutional layer\n",
    "    last_conv_layer = next(x for x in model.layers[::-1] if isinstance(x, K.layers.Conv2D))\n",
    "    target_layer = model.get_layer(last_conv_layer.name)\n",
    "\n",
    "    #compute gradient of top predicted class\n",
    "    with tf.GradientTape() as tape:\n",
    "        #create a model with original model inputs and the last conv_layer as the output\n",
    "        gradient_model = Model([model.inputs], [target_layer.output, model.output])\n",
    "        #pass the image through the base model and get the feature map  \n",
    "        conv2d_out, prediction = gradient_model(img)\n",
    "        #prediction loss\n",
    "        loss = prediction[:, prediction_idx]\n",
    "\n",
    "    #gradient() computes the gradient using operations recorded in context of this tape\n",
    "    gradients = tape.gradient(loss, conv2d_out)\n",
    "\n",
    "    #obtain the output from shape [1 x H x W x CHANNEL] -> [H x W x CHANNEL]\n",
    "    output = conv2d_out[0]\n",
    "\n",
    "    #obtain depthwise mean\n",
    "    weights = tf.reduce_mean(gradients[0], axis=(0, 1))\n",
    "\n",
    "\n",
    "    #create a 7x7 map for aggregation\n",
    "    activation_map = np.zeros(output.shape[0:2], dtype=np.float32)\n",
    "    #multiply weight for every layer\n",
    "    for idx, weight in enumerate(weights):\n",
    "        activation_map += weight * output[:, :, idx]\n",
    "    #resize to image size\n",
    "    activation_map = cv2.resize(activation_map.numpy(), \n",
    "                                (original_img.shape[1], \n",
    "                                 original_img.shape[0]))\n",
    "    #ensure no negative number\n",
    "    activation_map = np.maximum(activation_map, 0)\n",
    "    #convert class activation map to 0 - 255\n",
    "    activation_map = (activation_map - activation_map.min()) / (activation_map.max() - activation_map.min())\n",
    "    #rescale and convert the type to int\n",
    "    activation_map = np.uint8(255 * activation_map)\n",
    "\n",
    "\n",
    "    #convert to heatmap\n",
    "    heatmap = cv2.applyColorMap(activation_map, cv2.COLORMAP_JET)\n",
    "\n",
    "    #superimpose heatmap onto image\n",
    "    original_img = np.uint8((original_img - original_img.min()) / (original_img.max() - original_img.min()) * 255)\n",
    "    cvt_heatmap = cv2.cvtColor(heatmap, cv2.COLOR_BGR2RGB)\n",
    "    cvt_heatmap = img_to_array(cvt_heatmap)\n",
    "\n",
    "    #enlarge plot\n",
    "    plt.rcParams[\"figure.dpi\"] = 100\n",
    "\n",
    "    if plot_results == True:\n",
    "        plt.imshow(np.uint8(original_img * interpolant + cvt_heatmap * (1 - interpolant)))\n",
    "    else:\n",
    "        return(np.uint8(original_img * interpolant + cvt_heatmap * (1 - interpolant)))"
   ]
  },
  {
   "cell_type": "code",
   "execution_count": 17,
   "id": "bb1e6bb7",
   "metadata": {},
   "outputs": [],
   "source": [
    "#Load Parameter\n",
    "\n",
    "ep = '100'\n",
    "lr = '10-4'"
   ]
  },
  {
   "cell_type": "code",
   "execution_count": 18,
   "id": "31515148",
   "metadata": {},
   "outputs": [
    {
     "name": "stdout",
     "output_type": "stream",
     "text": [
      "WARNING:tensorflow:Large dropout rate: 0.55 (>0.5). In TensorFlow 2.x, dropout() uses dropout rate instead of keep_prob. Please ensure that this is intended.\n"
     ]
    }
   ],
   "source": [
    "#Load Previous Model\n",
    "\n",
    "model = load_model('ResNet50 Model Ep {} {}.h5'.format(ep, lr))\n",
    "# model = load_model('VGG16 Model Ep 100 50-3.h5'.format(ep, lr))"
   ]
  },
  {
   "cell_type": "code",
   "execution_count": 19,
   "id": "9c7918f7",
   "metadata": {},
   "outputs": [
    {
     "data": {
      "text/plain": [
       "'conv5_block3_3_conv'"
      ]
     },
     "execution_count": 19,
     "metadata": {},
     "output_type": "execute_result"
    }
   ],
   "source": [
    "#Load last Convolutional Layer\n",
    "\n",
    "last_conv_layer = next(x for x in model.layers[::-1] if isinstance(x, K.layers.Conv2D))\n",
    "last_conv_layer.name"
   ]
  },
  {
   "cell_type": "code",
   "execution_count": 20,
   "id": "eb0cb808",
   "metadata": {},
   "outputs": [],
   "source": [
    "#List Class\n",
    "\n",
    "classes = os.listdir('D:/Team Batch 3/Deny/Nyoba/TA Orbit/data/training/test')"
   ]
  },
  {
   "cell_type": "code",
   "execution_count": 21,
   "id": "5bf24063",
   "metadata": {},
   "outputs": [],
   "source": [
    "#Bundle Prediction\n",
    "\n",
    "import cv2\n",
    "import glob\n",
    "import os\n",
    "\n",
    "#path yang akan digunakan\n",
    "for classd in classes:\n",
    "    root_path_testing = 'D:/Team Batch 3/Deny/Nyoba/TA Orbit/data/training/test/{}/*.jpg'.format(classd)\n",
    "    root_path_saving = 'D:/Team Batch 3/Deny/Nyoba/TA Orbit/bener/result xai/ResNet50/Lr{}/{}/{}/'.format(lr, ep, classd)\n",
    "#     root_path_saving = 'D:/Team Batch 3/Deny/Nyoba/TA Orbit/bener/result xai/VGG16/Lr50-3/100/{}/'.format(classd)\n",
    "    file_path = glob.glob(root_path_testing)\n",
    "\n",
    "    #make new directory\n",
    "    os.makedirs(root_path_saving, exist_ok = True)\n",
    "\n",
    "    for path in file_path:\n",
    "\n",
    "        #load image\n",
    "        test_img = cv2.imread(path)\n",
    "\n",
    "        #apply function\n",
    "        result = VizGradCAM(model, img_to_array(test_img), plot_results=False)\n",
    "\n",
    "        # split filename\n",
    "        filename = path.split('\\\\')[-1]\n",
    "        plt.imsave(root_path_saving + filename,result)\n"
   ]
  },
  {
   "cell_type": "markdown",
   "id": "c6c1702d",
   "metadata": {},
   "source": [
    "# Result Prediciton"
   ]
  },
  {
   "attachments": {
    "gg%20%28723%29.jpg": {
     "image/jpeg": "[encoded data removed]"
    }
   },
   "cell_type": "markdown",
   "id": "ebdf9802",
   "metadata": {},
   "source": [
    "## Glioma\n",
    "![gg%20%28723%29.jpg](attachment:gg%20%28723%29.jpg)"
   ]
  },
  {
   "attachments": {
    "image%2814%29.jpg": {
     "image/jpeg": "[encoded data removed]"
    }
   },
   "cell_type": "markdown",
   "id": "2e0ded8a",
   "metadata": {},
   "source": [
    "## Meningioma\n",
    "\n",
    "![image%2814%29.jpg](attachment:image%2814%29.jpg)"
   ]
  },
  {
   "attachments": {
    "p%20%2833%29.jpg": {
     "image/jpeg": "[encoded data removed]"
    }
   },
   "cell_type": "markdown",
   "id": "421efca3",
   "metadata": {},
   "source": [
    "## Pituitary\n",
    "\n",
    "![p%20%2833%29.jpg](attachment:p%20%2833%29.jpg)"
   ]
  }
 ],
 "metadata": {
  "kernelspec": {
   "display_name": "Python 3 (ipykernel)",
   "language": "python",
   "name": "python3"
  },
  "language_info": {
   "codemirror_mode": {
    "name": "ipython",
    "version": 3
   },
   "file_extension": ".py",
   "mimetype": "text/x-python",
   "name": "python",
   "nbconvert_exporter": "python",
   "pygments_lexer": "ipython3",
   "version": "3.8.10"
  }
 },
 "nbformat": 4,
 "nbformat_minor": 5
}
