{
 "cells": [
  {
   "cell_type": "code",
   "execution_count": 1,
   "metadata": {},
   "outputs": [],
   "source": [
    "import warnings #Berfungsi untuk blablabla\n",
    "import cv2\n",
    "import random\n",
    "import numpy as np\n",
    "import time\n",
    "import os\n",
    "from imutils import paths\n",
    "import matplotlib.pyplot as plt\n",
    "plt.style.use('ggplot')\n",
    "%matplotlib inline\n",
    "\n",
    "warnings.filterwarnings(\"ignore\")\n",
    "SEED = 42"
   ]
  },
  {
   "cell_type": "code",
   "execution_count": 2,
   "metadata": {},
   "outputs": [
    {
     "name": "stdout",
     "output_type": "stream",
     "text": [
      "Time taken: 1.3 seconds\n",
      "done\n"
     ]
    }
   ],
   "source": [
    "time_wait = time.time()\n",
    "data = []\n",
    "labels = []\n",
    "\n",
    "imgPath = sorted(list(paths.list_images('Data')))\n",
    "random.seed(SEED)\n",
    "random.shuffle(imgPath)\n",
    "\n",
    "for imgPath in imgPath:\n",
    "    img = cv2.imread(imgPath)\n",
    "    img = cv2.resize(img, (32, 32)).flatten()\n",
    "    data.append(img)\n",
    "    \n",
    "    label = imgPath.split(os.path.sep)[-2]\n",
    "    labels.append(label)\n",
    "    \n",
    "data = np.array(data, dtype=\"float\")/255.0\n",
    "labels = np.array(labels)\n",
    "\n",
    "print('Time taken: {:.1f} seconds'.format(time.time() - time_wait))\n",
    "print('done')"
   ]
  },
  {
   "cell_type": "code",
   "execution_count": 3,
   "metadata": {},
   "outputs": [],
   "source": [
    "from sklearn.model_selection import train_test_split\n",
    "\n",
    "(x_train, x_test, y_train, y_test) = train_test_split(data, labels, test_size=0.2, random_state=SEED)"
   ]
  },
  {
   "cell_type": "code",
   "execution_count": 4,
   "metadata": {},
   "outputs": [
    {
     "data": {
      "text/plain": [
       "array([[0.82745098, 0.85490196, 0.85882353, ..., 0.74117647, 0.77647059,\n",
       "        0.81176471],\n",
       "       [0.07843137, 0.05882353, 0.0627451 , ..., 0.03921569, 0.30196078,\n",
       "        0.54117647],\n",
       "       [0.00392157, 0.84313725, 0.55294118, ..., 0.10196078, 0.19215686,\n",
       "        0.10980392],\n",
       "       ...,\n",
       "       [0.02745098, 0.22745098, 0.20784314, ..., 0.68627451, 0.81176471,\n",
       "        0.90980392],\n",
       "       [0.54901961, 0.92941176, 0.78431373, ..., 0.25098039, 0.5372549 ,\n",
       "        0.43529412],\n",
       "       [0.53333333, 0.74117647, 0.72941176, ..., 0.5254902 , 0.78823529,\n",
       "        0.75294118]])"
      ]
     },
     "execution_count": 4,
     "metadata": {},
     "output_type": "execute_result"
    }
   ],
   "source": [
    "x_train"
   ]
  },
  {
   "cell_type": "code",
   "execution_count": 5,
   "metadata": {},
   "outputs": [
    {
     "data": {
      "text/plain": [
       "array(['Anjing', 'Kucing', 'Burung', 'Burung', 'Kucing', 'Kucing',\n",
       "       'Kucing', 'Anjing', 'Anjing', 'Anjing', 'Burung', 'Burung'],\n",
       "      dtype='<U6')"
      ]
     },
     "execution_count": 5,
     "metadata": {},
     "output_type": "execute_result"
    }
   ],
   "source": [
    "y_train"
   ]
  },
  {
   "cell_type": "code",
   "execution_count": 6,
   "metadata": {},
   "outputs": [
    {
     "data": {
      "text/plain": [
       "numpy.ndarray"
      ]
     },
     "execution_count": 6,
     "metadata": {},
     "output_type": "execute_result"
    }
   ],
   "source": [
    "type(y_train)"
   ]
  },
  {
   "cell_type": "code",
   "execution_count": 7,
   "metadata": {},
   "outputs": [],
   "source": [
    "from sklearn.preprocessing import LabelBinarizer\n",
    "\n",
    "lb = LabelBinarizer()\n",
    "y_train = lb.fit_transform(y_train)\n",
    "y_test = lb.transform(y_test)\n",
    "\n",
    "#Apabila hanya ingin klasifikasi 2 variabel maka dapat menggunakan kode di bawah ini\n",
    "#from keras.utils import to_categorical\n",
    "#y_test = to_categorical(y_test)\n",
    "#y_train = to_categorical(y_train)"
   ]
  },
  {
   "cell_type": "code",
   "execution_count": 8,
   "metadata": {},
   "outputs": [
    {
     "data": {
      "text/plain": [
       "array([[1, 0, 0],\n",
       "       [0, 0, 1],\n",
       "       [0, 1, 0],\n",
       "       [0, 1, 0],\n",
       "       [0, 0, 1],\n",
       "       [0, 0, 1],\n",
       "       [0, 0, 1],\n",
       "       [1, 0, 0],\n",
       "       [1, 0, 0],\n",
       "       [1, 0, 0],\n",
       "       [0, 1, 0],\n",
       "       [0, 1, 0]])"
      ]
     },
     "execution_count": 8,
     "metadata": {},
     "output_type": "execute_result"
    }
   ],
   "source": [
    "y_train"
   ]
  },
  {
   "cell_type": "code",
   "execution_count": 9,
   "metadata": {},
   "outputs": [
    {
     "data": {
      "text/plain": [
       "array([[1, 0, 0],\n",
       "       [0, 0, 1],\n",
       "       [0, 1, 0]])"
      ]
     },
     "execution_count": 9,
     "metadata": {},
     "output_type": "execute_result"
    }
   ],
   "source": [
    "y_test"
   ]
  },
  {
   "cell_type": "code",
   "execution_count": 10,
   "metadata": {},
   "outputs": [
    {
     "name": "stdout",
     "output_type": "stream",
     "text": [
      "(3072,)\n"
     ]
    }
   ],
   "source": [
    "print(img.shape)"
   ]
  },
  {
   "cell_type": "code",
   "execution_count": 11,
   "metadata": {},
   "outputs": [
    {
     "data": {
      "text/plain": [
       "3"
      ]
     },
     "execution_count": 11,
     "metadata": {},
     "output_type": "execute_result"
    }
   ],
   "source": [
    "len(lb.classes_)"
   ]
  },
  {
   "cell_type": "code",
   "execution_count": 16,
   "metadata": {},
   "outputs": [
    {
     "name": "stdout",
     "output_type": "stream",
     "text": [
      "[INFO] Makig Model\n"
     ]
    }
   ],
   "source": [
    "from keras.models import Sequential\n",
    "from keras.layers.core import Dense\n",
    "\n",
    "print('[INFO] Makig Model')\n",
    "model = Sequential() #input 32x32x3=3072 px\n",
    "model.add(Dense(1024, input_shape=(3072,), activation='relu'))\n",
    "model.add(Dense(512, activation='relu'))\n",
    "model.add(Dense(len(lb.classes_), activation='softmax'))"
   ]
  },
  {
   "cell_type": "code",
   "execution_count": 17,
   "metadata": {},
   "outputs": [
    {
     "name": "stdout",
     "output_type": "stream",
     "text": [
      "[INFO] Training Network\n"
     ]
    }
   ],
   "source": [
    "from keras.optimizers import SGD\n",
    "\n",
    "INIT_LR = 0.01\n",
    "EPOCHS = 60\n",
    " \n",
    "# Untuk melakukan compile model dapat menggunakan SGD sebagai optimasi dan menggunakan categorical_crossentropy untuk Loss\n",
    "print(\"[INFO] Training Network\")\n",
    "opt = SGD(lr=INIT_LR)   # Stochastic Gradient Descent (SGD) optimizer\n",
    "model.compile(loss=\"categorical_crossentropy\", optimizer=opt, metrics=[\"accuracy\"])"
   ]
  },
  {
   "cell_type": "code",
   "execution_count": 22,
   "metadata": {},
   "outputs": [
    {
     "name": "stdout",
     "output_type": "stream",
     "text": [
      "Train on 12 samples, validate on 3 samples\n",
      "Epoch 1/50\n",
      "12/12 [==============================] - 0s 10ms/step - loss: 0.0263 - acc: 1.0000 - val_loss: 1.8267 - val_acc: 0.3333\n",
      "Epoch 2/50\n",
      "12/12 [==============================] - 0s 10ms/step - loss: 0.0260 - acc: 1.0000 - val_loss: 1.8285 - val_acc: 0.3333\n",
      "Epoch 3/50\n",
      "12/12 [==============================] - 0s 11ms/step - loss: 0.0257 - acc: 1.0000 - val_loss: 1.8314 - val_acc: 0.3333\n",
      "Epoch 4/50\n",
      "12/12 [==============================] - 0s 14ms/step - loss: 0.0255 - acc: 1.0000 - val_loss: 1.8330 - val_acc: 0.3333\n",
      "Epoch 5/50\n",
      "12/12 [==============================] - 0s 14ms/step - loss: 0.0252 - acc: 1.0000 - val_loss: 1.8367 - val_acc: 0.3333\n",
      "Epoch 6/50\n",
      "12/12 [==============================] - 0s 12ms/step - loss: 0.0249 - acc: 1.0000 - val_loss: 1.8383 - val_acc: 0.3333\n",
      "Epoch 7/50\n",
      "12/12 [==============================] - 0s 17ms/step - loss: 0.0247 - acc: 1.0000 - val_loss: 1.8408 - val_acc: 0.3333\n",
      "Epoch 8/50\n",
      "12/12 [==============================] - 0s 13ms/step - loss: 0.0244 - acc: 1.0000 - val_loss: 1.8431 - val_acc: 0.3333\n",
      "Epoch 9/50\n",
      "12/12 [==============================] - 0s 18ms/step - loss: 0.0242 - acc: 1.0000 - val_loss: 1.8460 - val_acc: 0.3333\n",
      "Epoch 10/50\n",
      "12/12 [==============================] - 0s 18ms/step - loss: 0.0240 - acc: 1.0000 - val_loss: 1.8477 - val_acc: 0.3333\n",
      "Epoch 11/50\n",
      "12/12 [==============================] - 0s 14ms/step - loss: 0.0237 - acc: 1.0000 - val_loss: 1.8502 - val_acc: 0.3333\n",
      "Epoch 12/50\n",
      "12/12 [==============================] - 0s 20ms/step - loss: 0.0235 - acc: 1.0000 - val_loss: 1.8528 - val_acc: 0.3333\n",
      "Epoch 13/50\n",
      "12/12 [==============================] - 0s 11ms/step - loss: 0.0233 - acc: 1.0000 - val_loss: 1.8547 - val_acc: 0.3333\n",
      "Epoch 14/50\n",
      "12/12 [==============================] - 0s 11ms/step - loss: 0.0230 - acc: 1.0000 - val_loss: 1.8572 - val_acc: 0.3333\n",
      "Epoch 15/50\n",
      "12/12 [==============================] - 0s 14ms/step - loss: 0.0228 - acc: 1.0000 - val_loss: 1.8594 - val_acc: 0.3333\n",
      "Epoch 16/50\n",
      "12/12 [==============================] - 0s 15ms/step - loss: 0.0226 - acc: 1.0000 - val_loss: 1.8619 - val_acc: 0.3333\n",
      "Epoch 17/50\n",
      "12/12 [==============================] - 0s 14ms/step - loss: 0.0224 - acc: 1.0000 - val_loss: 1.8640 - val_acc: 0.3333\n",
      "Epoch 18/50\n",
      "12/12 [==============================] - 0s 15ms/step - loss: 0.0222 - acc: 1.0000 - val_loss: 1.8661 - val_acc: 0.3333\n",
      "Epoch 19/50\n",
      "12/12 [==============================] - 0s 17ms/step - loss: 0.0220 - acc: 1.0000 - val_loss: 1.8682 - val_acc: 0.3333\n",
      "Epoch 20/50\n",
      "12/12 [==============================] - 0s 14ms/step - loss: 0.0218 - acc: 1.0000 - val_loss: 1.8705 - val_acc: 0.3333\n",
      "Epoch 21/50\n",
      "12/12 [==============================] - 0s 13ms/step - loss: 0.0216 - acc: 1.0000 - val_loss: 1.8725 - val_acc: 0.3333\n",
      "Epoch 22/50\n",
      "12/12 [==============================] - 0s 13ms/step - loss: 0.0214 - acc: 1.0000 - val_loss: 1.8751 - val_acc: 0.3333\n",
      "Epoch 23/50\n",
      "12/12 [==============================] - 0s 15ms/step - loss: 0.0212 - acc: 1.0000 - val_loss: 1.8770 - val_acc: 0.3333\n",
      "Epoch 24/50\n",
      "12/12 [==============================] - 0s 14ms/step - loss: 0.0210 - acc: 1.0000 - val_loss: 1.8790 - val_acc: 0.3333\n",
      "Epoch 25/50\n",
      "12/12 [==============================] - 0s 13ms/step - loss: 0.0208 - acc: 1.0000 - val_loss: 1.8814 - val_acc: 0.3333\n",
      "Epoch 26/50\n",
      "12/12 [==============================] - 0s 14ms/step - loss: 0.0206 - acc: 1.0000 - val_loss: 1.8834 - val_acc: 0.3333\n",
      "Epoch 27/50\n",
      "12/12 [==============================] - 0s 15ms/step - loss: 0.0205 - acc: 1.0000 - val_loss: 1.8862 - val_acc: 0.3333\n",
      "Epoch 28/50\n",
      "12/12 [==============================] - 0s 12ms/step - loss: 0.0203 - acc: 1.0000 - val_loss: 1.8871 - val_acc: 0.3333\n",
      "Epoch 29/50\n",
      "12/12 [==============================] - 0s 16ms/step - loss: 0.0201 - acc: 1.0000 - val_loss: 1.8911 - val_acc: 0.3333\n",
      "Epoch 30/50\n",
      "12/12 [==============================] - 0s 13ms/step - loss: 0.0199 - acc: 1.0000 - val_loss: 1.8919 - val_acc: 0.3333\n",
      "Epoch 31/50\n",
      "12/12 [==============================] - 0s 13ms/step - loss: 0.0198 - acc: 1.0000 - val_loss: 1.8946 - val_acc: 0.3333\n",
      "Epoch 32/50\n",
      "12/12 [==============================] - 0s 14ms/step - loss: 0.0196 - acc: 1.0000 - val_loss: 1.8962 - val_acc: 0.3333\n",
      "Epoch 33/50\n",
      "12/12 [==============================] - 0s 13ms/step - loss: 0.0194 - acc: 1.0000 - val_loss: 1.8987 - val_acc: 0.3333\n",
      "Epoch 34/50\n",
      "12/12 [==============================] - 0s 12ms/step - loss: 0.0193 - acc: 1.0000 - val_loss: 1.9006 - val_acc: 0.3333\n",
      "Epoch 35/50\n",
      "12/12 [==============================] - 0s 13ms/step - loss: 0.0191 - acc: 1.0000 - val_loss: 1.9033 - val_acc: 0.3333\n",
      "Epoch 36/50\n",
      "12/12 [==============================] - 0s 13ms/step - loss: 0.0189 - acc: 1.0000 - val_loss: 1.9046 - val_acc: 0.3333\n",
      "Epoch 37/50\n",
      "12/12 [==============================] - 0s 14ms/step - loss: 0.0188 - acc: 1.0000 - val_loss: 1.9065 - val_acc: 0.3333\n",
      "Epoch 38/50\n",
      "12/12 [==============================] - 0s 13ms/step - loss: 0.0186 - acc: 1.0000 - val_loss: 1.9089 - val_acc: 0.3333\n",
      "Epoch 39/50\n",
      "12/12 [==============================] - 0s 14ms/step - loss: 0.0185 - acc: 1.0000 - val_loss: 1.9114 - val_acc: 0.3333\n",
      "Epoch 40/50\n",
      "12/12 [==============================] - 0s 16ms/step - loss: 0.0183 - acc: 1.0000 - val_loss: 1.9129 - val_acc: 0.3333\n",
      "Epoch 41/50\n",
      "12/12 [==============================] - 0s 14ms/step - loss: 0.0182 - acc: 1.0000 - val_loss: 1.9145 - val_acc: 0.3333\n",
      "Epoch 42/50\n",
      "12/12 [==============================] - 0s 12ms/step - loss: 0.0180 - acc: 1.0000 - val_loss: 1.9173 - val_acc: 0.3333\n",
      "Epoch 43/50\n",
      "12/12 [==============================] - 0s 12ms/step - loss: 0.0179 - acc: 1.0000 - val_loss: 1.9191 - val_acc: 0.3333\n",
      "Epoch 44/50\n",
      "12/12 [==============================] - 0s 14ms/step - loss: 0.0178 - acc: 1.0000 - val_loss: 1.9211 - val_acc: 0.3333\n",
      "Epoch 45/50\n",
      "12/12 [==============================] - 0s 13ms/step - loss: 0.0176 - acc: 1.0000 - val_loss: 1.9229 - val_acc: 0.3333\n",
      "Epoch 46/50\n",
      "12/12 [==============================] - 0s 14ms/step - loss: 0.0175 - acc: 1.0000 - val_loss: 1.9250 - val_acc: 0.3333\n",
      "Epoch 47/50\n",
      "12/12 [==============================] - 0s 13ms/step - loss: 0.0173 - acc: 1.0000 - val_loss: 1.9271 - val_acc: 0.3333\n",
      "Epoch 48/50\n",
      "12/12 [==============================] - 0s 12ms/step - loss: 0.0172 - acc: 1.0000 - val_loss: 1.9288 - val_acc: 0.3333\n",
      "Epoch 49/50\n",
      "12/12 [==============================] - 0s 12ms/step - loss: 0.0171 - acc: 1.0000 - val_loss: 1.9311 - val_acc: 0.3333\n",
      "Epoch 50/50\n",
      "12/12 [==============================] - 0s 13ms/step - loss: 0.0169 - acc: 1.0000 - val_loss: 1.9329 - val_acc: 0.3333\n",
      "Time taken: 8.5 seconds\n"
     ]
    }
   ],
   "source": [
    "time1 = time.time()\n",
    "model.fit(x_train, y_train, validation_data=(x_test, y_test), epochs=50, batch_size=32)\n",
    "print('Time taken: {:.1f} seconds'.format(time.time() - time1))"
   ]
  },
  {
   "cell_type": "code",
   "execution_count": null,
   "metadata": {},
   "outputs": [],
   "source": []
  }
 ],
 "metadata": {
  "kernelspec": {
   "display_name": "Python 3 (ipykernel)",
   "language": "python",
   "name": "python3"
  },
  "language_info": {
   "codemirror_mode": {
    "name": "ipython",
    "version": 3
   },
   "file_extension": ".py",
   "mimetype": "text/x-python",
   "name": "python",
   "nbconvert_exporter": "python",
   "pygments_lexer": "ipython3",
   "version": "3.8.10"
  }
 },
 "nbformat": 4,
 "nbformat_minor": 2
}
