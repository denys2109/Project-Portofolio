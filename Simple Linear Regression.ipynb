{
 "cells": [
  {
   "cell_type": "code",
   "execution_count": 2,
   "metadata": {},
   "outputs": [],
   "source": [
    "import pandas as pd\n",
    "import numpy as np"
   ]
  },
  {
   "cell_type": "code",
   "execution_count": 65,
   "metadata": {},
   "outputs": [
    {
     "data": {
      "text/html": [
       "<div>\n",
       "<style scoped>\n",
       "    .dataframe tbody tr th:only-of-type {\n",
       "        vertical-align: middle;\n",
       "    }\n",
       "\n",
       "    .dataframe tbody tr th {\n",
       "        vertical-align: top;\n",
       "    }\n",
       "\n",
       "    .dataframe thead th {\n",
       "        text-align: right;\n",
       "    }\n",
       "</style>\n",
       "<table border=\"1\" class=\"dataframe\">\n",
       "  <thead>\n",
       "    <tr style=\"text-align: right;\">\n",
       "      <th></th>\n",
       "      <th>KABUPATEN/KOTA</th>\n",
       "      <th>IPM</th>\n",
       "      <th>ANGKA HARAPAN HIDUP</th>\n",
       "      <th>HARAPAN LAMA SEKOLAH</th>\n",
       "      <th>RATA-RATA LAMA SEKOLAH</th>\n",
       "      <th>PENGELUARAN PERKAPITA</th>\n",
       "    </tr>\n",
       "  </thead>\n",
       "  <tbody>\n",
       "    <tr>\n",
       "      <th>0</th>\n",
       "      <td>Sumatera Utara</td>\n",
       "      <td>71.18</td>\n",
       "      <td>68.61</td>\n",
       "      <td>13.14</td>\n",
       "      <td>9.34</td>\n",
       "      <td>10391</td>\n",
       "    </tr>\n",
       "    <tr>\n",
       "      <th>1</th>\n",
       "      <td>Nias</td>\n",
       "      <td>60.82</td>\n",
       "      <td>69.43</td>\n",
       "      <td>12.13</td>\n",
       "      <td>4.94</td>\n",
       "      <td>6941</td>\n",
       "    </tr>\n",
       "    <tr>\n",
       "      <th>2</th>\n",
       "      <td>Mandailing Natal</td>\n",
       "      <td>65.83</td>\n",
       "      <td>62.24</td>\n",
       "      <td>13.15</td>\n",
       "      <td>8.11</td>\n",
       "      <td>9653</td>\n",
       "    </tr>\n",
       "    <tr>\n",
       "      <th>3</th>\n",
       "      <td>Tapanuli Selatan</td>\n",
       "      <td>69.10</td>\n",
       "      <td>64.55</td>\n",
       "      <td>13.10</td>\n",
       "      <td>8.70</td>\n",
       "      <td>11209</td>\n",
       "    </tr>\n",
       "    <tr>\n",
       "      <th>4</th>\n",
       "      <td>Tapanuli Tengah</td>\n",
       "      <td>68.27</td>\n",
       "      <td>66.82</td>\n",
       "      <td>12.66</td>\n",
       "      <td>8.29</td>\n",
       "      <td>10067</td>\n",
       "    </tr>\n",
       "  </tbody>\n",
       "</table>\n",
       "</div>"
      ],
      "text/plain": [
       "     KABUPATEN/KOTA    IPM  ANGKA HARAPAN HIDUP  HARAPAN LAMA SEKOLAH  \\\n",
       "0    Sumatera Utara  71.18                68.61                 13.14   \n",
       "1              Nias  60.82                69.43                 12.13   \n",
       "2  Mandailing Natal  65.83                62.24                 13.15   \n",
       "3  Tapanuli Selatan  69.10                64.55                 13.10   \n",
       "4   Tapanuli Tengah  68.27                66.82                 12.66   \n",
       "\n",
       "   RATA-RATA LAMA SEKOLAH  PENGELUARAN PERKAPITA  \n",
       "0                    9.34                  10391  \n",
       "1                    4.94                   6941  \n",
       "2                    8.11                   9653  \n",
       "3                    8.70                  11209  \n",
       "4                    8.29                  10067  "
      ]
     },
     "execution_count": 65,
     "metadata": {},
     "output_type": "execute_result"
    }
   ],
   "source": [
    "dt=pd.read_excel(r'DATA LAB 2.xlsx', sheet_name='2018')\n",
    "dt.head()"
   ]
  },
  {
   "cell_type": "code",
   "execution_count": 66,
   "metadata": {},
   "outputs": [
    {
     "data": {
      "text/html": [
       "<div>\n",
       "<style scoped>\n",
       "    .dataframe tbody tr th:only-of-type {\n",
       "        vertical-align: middle;\n",
       "    }\n",
       "\n",
       "    .dataframe tbody tr th {\n",
       "        vertical-align: top;\n",
       "    }\n",
       "\n",
       "    .dataframe thead th {\n",
       "        text-align: right;\n",
       "    }\n",
       "</style>\n",
       "<table border=\"1\" class=\"dataframe\">\n",
       "  <thead>\n",
       "    <tr style=\"text-align: right;\">\n",
       "      <th></th>\n",
       "      <th>KABUPATEN/KOTA</th>\n",
       "      <th>ipm</th>\n",
       "      <th>angka_harapan_hidup</th>\n",
       "      <th>harapan_lama_sekolah</th>\n",
       "      <th>rata-rata_lama_sekolah</th>\n",
       "      <th>PENGELUARAN PERKAPITA</th>\n",
       "    </tr>\n",
       "  </thead>\n",
       "  <tbody>\n",
       "    <tr>\n",
       "      <th>0</th>\n",
       "      <td>Sumatera Utara</td>\n",
       "      <td>71.18</td>\n",
       "      <td>68.61</td>\n",
       "      <td>13.14</td>\n",
       "      <td>9.34</td>\n",
       "      <td>10391</td>\n",
       "    </tr>\n",
       "    <tr>\n",
       "      <th>1</th>\n",
       "      <td>Nias</td>\n",
       "      <td>60.82</td>\n",
       "      <td>69.43</td>\n",
       "      <td>12.13</td>\n",
       "      <td>4.94</td>\n",
       "      <td>6941</td>\n",
       "    </tr>\n",
       "    <tr>\n",
       "      <th>2</th>\n",
       "      <td>Mandailing Natal</td>\n",
       "      <td>65.83</td>\n",
       "      <td>62.24</td>\n",
       "      <td>13.15</td>\n",
       "      <td>8.11</td>\n",
       "      <td>9653</td>\n",
       "    </tr>\n",
       "    <tr>\n",
       "      <th>3</th>\n",
       "      <td>Tapanuli Selatan</td>\n",
       "      <td>69.10</td>\n",
       "      <td>64.55</td>\n",
       "      <td>13.10</td>\n",
       "      <td>8.70</td>\n",
       "      <td>11209</td>\n",
       "    </tr>\n",
       "    <tr>\n",
       "      <th>4</th>\n",
       "      <td>Tapanuli Tengah</td>\n",
       "      <td>68.27</td>\n",
       "      <td>66.82</td>\n",
       "      <td>12.66</td>\n",
       "      <td>8.29</td>\n",
       "      <td>10067</td>\n",
       "    </tr>\n",
       "  </tbody>\n",
       "</table>\n",
       "</div>"
      ],
      "text/plain": [
       "     KABUPATEN/KOTA    ipm  angka_harapan_hidup  harapan_lama_sekolah  \\\n",
       "0    Sumatera Utara  71.18                68.61                 13.14   \n",
       "1              Nias  60.82                69.43                 12.13   \n",
       "2  Mandailing Natal  65.83                62.24                 13.15   \n",
       "3  Tapanuli Selatan  69.10                64.55                 13.10   \n",
       "4   Tapanuli Tengah  68.27                66.82                 12.66   \n",
       "\n",
       "   rata-rata_lama_sekolah  PENGELUARAN PERKAPITA  \n",
       "0                    9.34                  10391  \n",
       "1                    4.94                   6941  \n",
       "2                    8.11                   9653  \n",
       "3                    8.70                  11209  \n",
       "4                    8.29                  10067  "
      ]
     },
     "execution_count": 66,
     "metadata": {},
     "output_type": "execute_result"
    }
   ],
   "source": [
    "dt=dt.rename(columns={\"ANGKA HARAPAN HIDUP\":\"angka_harapan_hidup\", \"RATA-RATA LAMA SEKOLAH\":\"rata-rata_lama_sekolah\", \"IPM\":\"ipm\", \"HARAPAN LAMA SEKOLAH\":\"harapan_lama_sekolah\"})\n",
    "dt.head()"
   ]
  },
  {
   "cell_type": "code",
   "execution_count": 67,
   "metadata": {},
   "outputs": [
    {
     "data": {
      "text/html": [
       "<div>\n",
       "<style scoped>\n",
       "    .dataframe tbody tr th:only-of-type {\n",
       "        vertical-align: middle;\n",
       "    }\n",
       "\n",
       "    .dataframe tbody tr th {\n",
       "        vertical-align: top;\n",
       "    }\n",
       "\n",
       "    .dataframe thead th {\n",
       "        text-align: right;\n",
       "    }\n",
       "</style>\n",
       "<table border=\"1\" class=\"dataframe\">\n",
       "  <thead>\n",
       "    <tr style=\"text-align: right;\">\n",
       "      <th></th>\n",
       "      <th>ipm</th>\n",
       "      <th>angka_harapan_hidup</th>\n",
       "      <th>harapan_lama_sekolah</th>\n",
       "      <th>rata-rata_lama_sekolah</th>\n",
       "    </tr>\n",
       "  </thead>\n",
       "  <tbody>\n",
       "    <tr>\n",
       "      <th>0</th>\n",
       "      <td>71.18</td>\n",
       "      <td>68.61</td>\n",
       "      <td>13.14</td>\n",
       "      <td>9.34</td>\n",
       "    </tr>\n",
       "    <tr>\n",
       "      <th>1</th>\n",
       "      <td>60.82</td>\n",
       "      <td>69.43</td>\n",
       "      <td>12.13</td>\n",
       "      <td>4.94</td>\n",
       "    </tr>\n",
       "    <tr>\n",
       "      <th>2</th>\n",
       "      <td>65.83</td>\n",
       "      <td>62.24</td>\n",
       "      <td>13.15</td>\n",
       "      <td>8.11</td>\n",
       "    </tr>\n",
       "    <tr>\n",
       "      <th>3</th>\n",
       "      <td>69.10</td>\n",
       "      <td>64.55</td>\n",
       "      <td>13.10</td>\n",
       "      <td>8.70</td>\n",
       "    </tr>\n",
       "    <tr>\n",
       "      <th>4</th>\n",
       "      <td>68.27</td>\n",
       "      <td>66.82</td>\n",
       "      <td>12.66</td>\n",
       "      <td>8.29</td>\n",
       "    </tr>\n",
       "  </tbody>\n",
       "</table>\n",
       "</div>"
      ],
      "text/plain": [
       "     ipm  angka_harapan_hidup  harapan_lama_sekolah  rata-rata_lama_sekolah\n",
       "0  71.18                68.61                 13.14                    9.34\n",
       "1  60.82                69.43                 12.13                    4.94\n",
       "2  65.83                62.24                 13.15                    8.11\n",
       "3  69.10                64.55                 13.10                    8.70\n",
       "4  68.27                66.82                 12.66                    8.29"
      ]
     },
     "execution_count": 67,
     "metadata": {},
     "output_type": "execute_result"
    }
   ],
   "source": [
    "dt.drop(['KABUPATEN/KOTA', 'PENGELUARAN PERKAPITA'], axis=1, inplace=True)\n",
    "dt.head()"
   ]
  },
  {
   "cell_type": "code",
   "execution_count": 45,
   "metadata": {},
   "outputs": [
    {
     "name": "stdout",
     "output_type": "stream",
     "text": [
      "<class 'pandas.core.frame.DataFrame'>\n",
      "RangeIndex: 10 entries, 0 to 9\n",
      "Data columns (total 4 columns):\n",
      "ipm                       10 non-null float64\n",
      "angka_harapan_hidup       10 non-null float64\n",
      "rata-rata_lama_sekolah    10 non-null float64\n",
      "pengeluaran_perkapita     10 non-null int64\n",
      "dtypes: float64(3), int64(1)\n",
      "memory usage: 400.0 bytes\n"
     ]
    }
   ],
   "source": [
    "dt.info()"
   ]
  },
  {
   "cell_type": "code",
   "execution_count": 46,
   "metadata": {},
   "outputs": [
    {
     "data": {
      "text/plain": [
       "ipm                       0\n",
       "angka_harapan_hidup       0\n",
       "rata-rata_lama_sekolah    0\n",
       "pengeluaran_perkapita     0\n",
       "dtype: int64"
      ]
     },
     "execution_count": 46,
     "metadata": {},
     "output_type": "execute_result"
    }
   ],
   "source": [
    "dt.isnull().sum()"
   ]
  },
  {
   "cell_type": "code",
   "execution_count": 47,
   "metadata": {},
   "outputs": [],
   "source": [
    "import matplotlib.pyplot as plt\n",
    "%matplotlib inline"
   ]
  },
  {
   "cell_type": "code",
   "execution_count": 74,
   "metadata": {},
   "outputs": [],
   "source": [
    "x_sct1 = dt['angka_harapan_hidup'].values.reshape(-1,1)\n",
    "x_sct2 = dt['rata-rata_lama_sekolah'].values.reshape(-1,1)\n",
    "x_sct3 = dt['harapan_lama_sekolah'].values.reshape(-1,1)\n",
    "y = dt['ipm'].values.reshape(-1,1)"
   ]
  },
  {
   "cell_type": "code",
   "execution_count": 75,
   "metadata": {},
   "outputs": [
    {
     "data": {
      "text/plain": [
       "LinearRegression(copy_X=True, fit_intercept=True, n_jobs=1, normalize=False)"
      ]
     },
     "execution_count": 75,
     "metadata": {},
     "output_type": "execute_result"
    }
   ],
   "source": [
    "from sklearn.linear_model import LinearRegression\n",
    "\n",
    "# latih model dengan Linear Regression.fit()\n",
    "linreg1 = LinearRegression()\n",
    "linreg1.fit(x_sct1, y)"
   ]
  },
  {
   "cell_type": "code",
   "execution_count": 76,
   "metadata": {},
   "outputs": [
    {
     "data": {
      "text/plain": [
       "LinearRegression(copy_X=True, fit_intercept=True, n_jobs=1, normalize=False)"
      ]
     },
     "execution_count": 76,
     "metadata": {},
     "output_type": "execute_result"
    }
   ],
   "source": [
    "linreg2 = LinearRegression()\n",
    "linreg2.fit(x_sct2, y)"
   ]
  },
  {
   "cell_type": "code",
   "execution_count": 77,
   "metadata": {},
   "outputs": [
    {
     "data": {
      "text/plain": [
       "LinearRegression(copy_X=True, fit_intercept=True, n_jobs=1, normalize=False)"
      ]
     },
     "execution_count": 77,
     "metadata": {},
     "output_type": "execute_result"
    }
   ],
   "source": [
    "linreg3 = LinearRegression()\n",
    "linreg3.fit(x_sct3, y)"
   ]
  },
  {
   "cell_type": "code",
   "execution_count": 78,
   "metadata": {},
   "outputs": [
    {
     "data": {
      "text/plain": [
       "Text(0, 0.5, 'IPM')"
      ]
     },
     "execution_count": 78,
     "metadata": {},
     "output_type": "execute_result"
    },
    {
     "data": {
      "image/png": "[encoded data removed]",
      "text/plain": [
       "<Figure size 432x288 with 1 Axes>"
      ]
     },
     "metadata": {},
     "output_type": "display_data"
    }
   ],
   "source": [
    "fig, ax = plt.subplots()\n",
    "\n",
    "ax.scatter(x_sct1, y)\n",
    "ax.plot(x_sct1, linreg1.predict(x_sct1))\n",
    "ax.set_title('Scatter Plot Antara Angka Harapan Hidup Dengan IPM')\n",
    "ax.set_xlabel('Angka Harapan Hidup')\n",
    "ax.set_ylabel('IPM')"
   ]
  },
  {
   "cell_type": "code",
   "execution_count": 79,
   "metadata": {},
   "outputs": [
    {
     "data": {
      "text/plain": [
       "Text(0, 0.5, 'IPM')"
      ]
     },
     "execution_count": 79,
     "metadata": {},
     "output_type": "execute_result"
    },
    {
     "data": {
      "image/png": "[encoded data removed]",
      "text/plain": [
       "<Figure size 432x288 with 1 Axes>"
      ]
     },
     "metadata": {},
     "output_type": "display_data"
    }
   ],
   "source": [
    "fig, ax = plt.subplots()\n",
    "\n",
    "ax.scatter(x_sct1, y)\n",
    "ax.set_title('Scatter Plot Antara Angka Harapan Hidup Dengan IPM')\n",
    "ax.set_xlabel('Angka Harapan Hidup')\n",
    "ax.set_ylabel('IPM')"
   ]
  },
  {
   "cell_type": "code",
   "execution_count": 80,
   "metadata": {},
   "outputs": [
    {
     "data": {
      "text/plain": [
       "Text(0, 0.5, 'IPM')"
      ]
     },
     "execution_count": 80,
     "metadata": {},
     "output_type": "execute_result"
    },
    {
     "data": {
      "image/png": "[encoded data removed]",
      "text/plain": [
       "<Figure size 432x288 with 1 Axes>"
      ]
     },
     "metadata": {},
     "output_type": "display_data"
    }
   ],
   "source": [
    "fig, ax = plt.subplots()\n",
    "\n",
    "ax.scatter(x_sct2, y)\n",
    "ax.plot(x_sct2, linreg2.predict(x_sct2))\n",
    "ax.set_title('Scatter Plot Antara Rata-Rata Lama Sekolah Dengan IPM')\n",
    "ax.set_xlabel('Rata-Rata Lama Sekolah')\n",
    "ax.set_ylabel('IPM')"
   ]
  },
  {
   "cell_type": "code",
   "execution_count": 81,
   "metadata": {},
   "outputs": [
    {
     "data": {
      "text/plain": [
       "Text(0, 0.5, 'IPM')"
      ]
     },
     "execution_count": 81,
     "metadata": {},
     "output_type": "execute_result"
    },
    {
     "data": {
      "image/png": "[encoded data removed]",
      "text/plain": [
       "<Figure size 432x288 with 1 Axes>"
      ]
     },
     "metadata": {},
     "output_type": "display_data"
    }
   ],
   "source": [
    "fig, ax = plt.subplots()\n",
    "\n",
    "ax.scatter(x_sct2, y)\n",
    "ax.set_title('Scatter Plot Antara Rata-Rata Lama Sekolah Dengan IPM')\n",
    "ax.set_xlabel('Rata-Rata Lama Sekolah')\n",
    "ax.set_ylabel('IPM')"
   ]
  },
  {
   "cell_type": "code",
   "execution_count": 82,
   "metadata": {},
   "outputs": [
    {
     "data": {
      "text/plain": [
       "Text(0, 0.5, 'IPM')"
      ]
     },
     "execution_count": 82,
     "metadata": {},
     "output_type": "execute_result"
    },
    {
     "data": {
      "image/png": "[encoded data removed]",
      "text/plain": [
       "<Figure size 432x288 with 1 Axes>"
      ]
     },
     "metadata": {},
     "output_type": "display_data"
    }
   ],
   "source": [
    "fig, ax = plt.subplots()\n",
    "\n",
    "ax.scatter(x_sct3, y)\n",
    "ax.plot(x_sct3, linreg3.predict(x_sct3))\n",
    "ax.set_title('Scatter Plot Antara Harapan Lama Sekolah Dengan IPM')\n",
    "ax.set_xlabel('Harapan Lama Sekolah')\n",
    "ax.set_ylabel('IPM')"
   ]
  },
  {
   "cell_type": "code",
   "execution_count": 83,
   "metadata": {},
   "outputs": [
    {
     "data": {
      "text/plain": [
       "Text(0, 0.5, 'IPM')"
      ]
     },
     "execution_count": 83,
     "metadata": {},
     "output_type": "execute_result"
    },
    {
     "data": {
      "image/png": "[encoded data removed]",
      "text/plain": [
       "<Figure size 432x288 with 1 Axes>"
      ]
     },
     "metadata": {},
     "output_type": "display_data"
    }
   ],
   "source": [
    "fig, ax = plt.subplots()\n",
    "\n",
    "ax.scatter(x_sct3, y)\n",
    "ax.set_title('Scatter Plot Antara Harapan Lama Sekolah Dengan IPM')\n",
    "ax.set_xlabel('Harapan Lama Sekolah')\n",
    "ax.set_ylabel('IPM')"
   ]
  },
  {
   "cell_type": "code",
   "execution_count": null,
   "metadata": {},
   "outputs": [],
   "source": []
  }
 ],
 "metadata": {
  "kernelspec": {
   "display_name": "Python 3",
   "language": "python",
   "name": "python3"
  },
  "language_info": {
   "codemirror_mode": {
    "name": "ipython",
    "version": 3
   },
   "file_extension": ".py",
   "mimetype": "text/x-python",
   "name": "python",
   "nbconvert_exporter": "python",
   "pygments_lexer": "ipython3",
   "version": "3.6.4"
  }
 },
 "nbformat": 4,
 "nbformat_minor": 2
}
