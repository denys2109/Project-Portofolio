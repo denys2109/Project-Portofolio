{
 "cells": [
  {
   "cell_type": "markdown",
   "metadata": {},
   "source": [
    "<h1>Feature Selection</h1>"
   ]
  },
  {
   "cell_type": "code",
   "execution_count": 1,
   "metadata": {},
   "outputs": [],
   "source": [
    "import numpy as np\n",
    "import pandas as pd"
   ]
  },
  {
   "cell_type": "code",
   "execution_count": 2,
   "metadata": {},
   "outputs": [],
   "source": [
    "std = pd.read_csv(\"Dataset/StudentsPerformance.csv\")"
   ]
  },
  {
   "cell_type": "code",
   "execution_count": 7,
   "metadata": {},
   "outputs": [
    {
     "data": {
      "text/html": [
       "<div>\n",
       "<style scoped>\n",
       "    .dataframe tbody tr th:only-of-type {\n",
       "        vertical-align: middle;\n",
       "    }\n",
       "\n",
       "    .dataframe tbody tr th {\n",
       "        vertical-align: top;\n",
       "    }\n",
       "\n",
       "    .dataframe thead th {\n",
       "        text-align: right;\n",
       "    }\n",
       "</style>\n",
       "<table border=\"1\" class=\"dataframe\">\n",
       "  <thead>\n",
       "    <tr style=\"text-align: right;\">\n",
       "      <th></th>\n",
       "      <th>gender</th>\n",
       "      <th>race/ethnicity</th>\n",
       "      <th>parental level of education</th>\n",
       "      <th>lunch</th>\n",
       "      <th>test preparation course</th>\n",
       "      <th>math score</th>\n",
       "      <th>reading score</th>\n",
       "      <th>writing score</th>\n",
       "    </tr>\n",
       "  </thead>\n",
       "  <tbody>\n",
       "    <tr>\n",
       "      <th>995</th>\n",
       "      <td>female</td>\n",
       "      <td>group E</td>\n",
       "      <td>master's degree</td>\n",
       "      <td>standard</td>\n",
       "      <td>completed</td>\n",
       "      <td>88</td>\n",
       "      <td>99</td>\n",
       "      <td>95</td>\n",
       "    </tr>\n",
       "    <tr>\n",
       "      <th>996</th>\n",
       "      <td>male</td>\n",
       "      <td>group C</td>\n",
       "      <td>high school</td>\n",
       "      <td>free/reduced</td>\n",
       "      <td>none</td>\n",
       "      <td>62</td>\n",
       "      <td>55</td>\n",
       "      <td>55</td>\n",
       "    </tr>\n",
       "    <tr>\n",
       "      <th>997</th>\n",
       "      <td>female</td>\n",
       "      <td>group C</td>\n",
       "      <td>high school</td>\n",
       "      <td>free/reduced</td>\n",
       "      <td>completed</td>\n",
       "      <td>59</td>\n",
       "      <td>71</td>\n",
       "      <td>65</td>\n",
       "    </tr>\n",
       "    <tr>\n",
       "      <th>998</th>\n",
       "      <td>female</td>\n",
       "      <td>group D</td>\n",
       "      <td>some college</td>\n",
       "      <td>standard</td>\n",
       "      <td>completed</td>\n",
       "      <td>68</td>\n",
       "      <td>78</td>\n",
       "      <td>77</td>\n",
       "    </tr>\n",
       "    <tr>\n",
       "      <th>999</th>\n",
       "      <td>female</td>\n",
       "      <td>group D</td>\n",
       "      <td>some college</td>\n",
       "      <td>free/reduced</td>\n",
       "      <td>none</td>\n",
       "      <td>77</td>\n",
       "      <td>86</td>\n",
       "      <td>86</td>\n",
       "    </tr>\n",
       "  </tbody>\n",
       "</table>\n",
       "</div>"
      ],
      "text/plain": [
       "     gender race/ethnicity parental level of education         lunch  \\\n",
       "995  female        group E             master's degree      standard   \n",
       "996    male        group C                 high school  free/reduced   \n",
       "997  female        group C                 high school  free/reduced   \n",
       "998  female        group D                some college      standard   \n",
       "999  female        group D                some college  free/reduced   \n",
       "\n",
       "    test preparation course  math score  reading score  writing score  \n",
       "995               completed          88             99             95  \n",
       "996                    none          62             55             55  \n",
       "997               completed          59             71             65  \n",
       "998               completed          68             78             77  \n",
       "999                    none          77             86             86  "
      ]
     },
     "execution_count": 7,
     "metadata": {},
     "output_type": "execute_result"
    }
   ],
   "source": [
    "std.tail()"
   ]
  },
  {
   "cell_type": "code",
   "execution_count": 3,
   "metadata": {},
   "outputs": [
    {
     "data": {
      "text/html": [
       "<div>\n",
       "<style scoped>\n",
       "    .dataframe tbody tr th:only-of-type {\n",
       "        vertical-align: middle;\n",
       "    }\n",
       "\n",
       "    .dataframe tbody tr th {\n",
       "        vertical-align: top;\n",
       "    }\n",
       "\n",
       "    .dataframe thead th {\n",
       "        text-align: right;\n",
       "    }\n",
       "</style>\n",
       "<table border=\"1\" class=\"dataframe\">\n",
       "  <thead>\n",
       "    <tr style=\"text-align: right;\">\n",
       "      <th></th>\n",
       "      <th>gender</th>\n",
       "      <th>group</th>\n",
       "      <th>education</th>\n",
       "      <th>lunch</th>\n",
       "      <th>course_completation</th>\n",
       "      <th>math_score</th>\n",
       "      <th>reading_score</th>\n",
       "      <th>writing_score</th>\n",
       "    </tr>\n",
       "  </thead>\n",
       "  <tbody>\n",
       "    <tr>\n",
       "      <th>0</th>\n",
       "      <td>female</td>\n",
       "      <td>group B</td>\n",
       "      <td>bachelor's degree</td>\n",
       "      <td>standard</td>\n",
       "      <td>none</td>\n",
       "      <td>72</td>\n",
       "      <td>72</td>\n",
       "      <td>74</td>\n",
       "    </tr>\n",
       "    <tr>\n",
       "      <th>1</th>\n",
       "      <td>female</td>\n",
       "      <td>group C</td>\n",
       "      <td>some college</td>\n",
       "      <td>standard</td>\n",
       "      <td>completed</td>\n",
       "      <td>69</td>\n",
       "      <td>90</td>\n",
       "      <td>88</td>\n",
       "    </tr>\n",
       "    <tr>\n",
       "      <th>2</th>\n",
       "      <td>female</td>\n",
       "      <td>group B</td>\n",
       "      <td>master's degree</td>\n",
       "      <td>standard</td>\n",
       "      <td>none</td>\n",
       "      <td>90</td>\n",
       "      <td>95</td>\n",
       "      <td>93</td>\n",
       "    </tr>\n",
       "    <tr>\n",
       "      <th>3</th>\n",
       "      <td>male</td>\n",
       "      <td>group A</td>\n",
       "      <td>associate's degree</td>\n",
       "      <td>free/reduced</td>\n",
       "      <td>none</td>\n",
       "      <td>47</td>\n",
       "      <td>57</td>\n",
       "      <td>44</td>\n",
       "    </tr>\n",
       "    <tr>\n",
       "      <th>4</th>\n",
       "      <td>male</td>\n",
       "      <td>group C</td>\n",
       "      <td>some college</td>\n",
       "      <td>standard</td>\n",
       "      <td>none</td>\n",
       "      <td>76</td>\n",
       "      <td>78</td>\n",
       "      <td>75</td>\n",
       "    </tr>\n",
       "  </tbody>\n",
       "</table>\n",
       "</div>"
      ],
      "text/plain": [
       "   gender    group           education         lunch course_completation  \\\n",
       "0  female  group B   bachelor's degree      standard                none   \n",
       "1  female  group C        some college      standard           completed   \n",
       "2  female  group B     master's degree      standard                none   \n",
       "3    male  group A  associate's degree  free/reduced                none   \n",
       "4    male  group C        some college      standard                none   \n",
       "\n",
       "   math_score  reading_score  writing_score  \n",
       "0          72             72             74  \n",
       "1          69             90             88  \n",
       "2          90             95             93  \n",
       "3          47             57             44  \n",
       "4          76             78             75  "
      ]
     },
     "execution_count": 3,
     "metadata": {},
     "output_type": "execute_result"
    }
   ],
   "source": [
    "std = std.rename(columns={\"race/ethnicity\":\"group\",\"parental level of education\":\"education\",\"test preparation course\":\"course_completation\",\"math score\":\"math_score\",\"reading score\":\"reading_score\",\"writing score\":\"writing_score\"})\n",
    "std.head()"
   ]
  },
  {
   "cell_type": "code",
   "execution_count": 12,
   "metadata": {},
   "outputs": [],
   "source": [
    "num = ['math_score','reading_score','writing_score']\n",
    "cat = ['gender','group','education','lunch','course_completation']"
   ]
  },
  {
   "cell_type": "code",
   "execution_count": 13,
   "metadata": {},
   "outputs": [
    {
     "data": {
      "text/html": [
       "<div>\n",
       "<style scoped>\n",
       "    .dataframe tbody tr th:only-of-type {\n",
       "        vertical-align: middle;\n",
       "    }\n",
       "\n",
       "    .dataframe tbody tr th {\n",
       "        vertical-align: top;\n",
       "    }\n",
       "\n",
       "    .dataframe thead th {\n",
       "        text-align: right;\n",
       "    }\n",
       "</style>\n",
       "<table border=\"1\" class=\"dataframe\">\n",
       "  <thead>\n",
       "    <tr style=\"text-align: right;\">\n",
       "      <th></th>\n",
       "      <th>math_score</th>\n",
       "      <th>reading_score</th>\n",
       "      <th>writing_score</th>\n",
       "      <th>gender</th>\n",
       "      <th>group</th>\n",
       "      <th>education</th>\n",
       "      <th>lunch</th>\n",
       "      <th>course_completation</th>\n",
       "    </tr>\n",
       "  </thead>\n",
       "  <tbody>\n",
       "    <tr>\n",
       "      <th>0</th>\n",
       "      <td>72</td>\n",
       "      <td>72</td>\n",
       "      <td>74</td>\n",
       "      <td>female</td>\n",
       "      <td>group B</td>\n",
       "      <td>bachelor's degree</td>\n",
       "      <td>standard</td>\n",
       "      <td>none</td>\n",
       "    </tr>\n",
       "    <tr>\n",
       "      <th>1</th>\n",
       "      <td>69</td>\n",
       "      <td>90</td>\n",
       "      <td>88</td>\n",
       "      <td>female</td>\n",
       "      <td>group C</td>\n",
       "      <td>some college</td>\n",
       "      <td>standard</td>\n",
       "      <td>completed</td>\n",
       "    </tr>\n",
       "    <tr>\n",
       "      <th>2</th>\n",
       "      <td>90</td>\n",
       "      <td>95</td>\n",
       "      <td>93</td>\n",
       "      <td>female</td>\n",
       "      <td>group B</td>\n",
       "      <td>master's degree</td>\n",
       "      <td>standard</td>\n",
       "      <td>none</td>\n",
       "    </tr>\n",
       "    <tr>\n",
       "      <th>3</th>\n",
       "      <td>47</td>\n",
       "      <td>57</td>\n",
       "      <td>44</td>\n",
       "      <td>male</td>\n",
       "      <td>group A</td>\n",
       "      <td>associate's degree</td>\n",
       "      <td>free/reduced</td>\n",
       "      <td>none</td>\n",
       "    </tr>\n",
       "    <tr>\n",
       "      <th>4</th>\n",
       "      <td>76</td>\n",
       "      <td>78</td>\n",
       "      <td>75</td>\n",
       "      <td>male</td>\n",
       "      <td>group C</td>\n",
       "      <td>some college</td>\n",
       "      <td>standard</td>\n",
       "      <td>none</td>\n",
       "    </tr>\n",
       "  </tbody>\n",
       "</table>\n",
       "</div>"
      ],
      "text/plain": [
       "   math_score  reading_score  writing_score  gender    group  \\\n",
       "0          72             72             74  female  group B   \n",
       "1          69             90             88  female  group C   \n",
       "2          90             95             93  female  group B   \n",
       "3          47             57             44    male  group A   \n",
       "4          76             78             75    male  group C   \n",
       "\n",
       "            education         lunch course_completation  \n",
       "0   bachelor's degree      standard                none  \n",
       "1        some college      standard           completed  \n",
       "2     master's degree      standard                none  \n",
       "3  associate's degree  free/reduced                none  \n",
       "4        some college      standard                none  "
      ]
     },
     "execution_count": 13,
     "metadata": {},
     "output_type": "execute_result"
    }
   ],
   "source": [
    "std = std[num+cat]\n",
    "std.head()"
   ]
  },
  {
   "cell_type": "code",
   "execution_count": 11,
   "metadata": {},
   "outputs": [],
   "source": [
    "traindf = pd.concat([std[num], pd.get_dummies(std[cat])],axis=1)\n",
    "features = traindf.columns\n",
    "\n",
    "traindf = traindf.dropna()"
   ]
  },
  {
   "cell_type": "code",
   "execution_count": 12,
   "metadata": {},
   "outputs": [],
   "source": [
    "traindf = pd.DataFrame(traindf,columns=features)"
   ]
  },
  {
   "cell_type": "code",
   "execution_count": 15,
   "metadata": {},
   "outputs": [],
   "source": [
    "y = traindf['math_score']>=87\n",
    "X = traindf.copy()\n",
    "del X['math_score']"
   ]
  },
  {
   "cell_type": "code",
   "execution_count": 16,
   "metadata": {},
   "outputs": [
    {
     "data": {
      "text/plain": [
       "(1000, 19)"
      ]
     },
     "execution_count": 16,
     "metadata": {},
     "output_type": "execute_result"
    }
   ],
   "source": [
    "X.shape"
   ]
  },
  {
   "cell_type": "code",
   "execution_count": 17,
   "metadata": {},
   "outputs": [
    {
     "data": {
      "text/plain": [
       "995     True\n",
       "996    False\n",
       "997    False\n",
       "998    False\n",
       "999    False\n",
       "Name: math_score, dtype: bool"
      ]
     },
     "execution_count": 17,
     "metadata": {},
     "output_type": "execute_result"
    }
   ],
   "source": [
    "y.tail()"
   ]
  },
  {
   "cell_type": "code",
   "execution_count": 18,
   "metadata": {},
   "outputs": [
    {
     "data": {
      "text/plain": [
       "19"
      ]
     },
     "execution_count": 18,
     "metadata": {},
     "output_type": "execute_result"
    }
   ],
   "source": [
    "len(X.columns)"
   ]
  },
  {
   "cell_type": "code",
   "execution_count": 19,
   "metadata": {},
   "outputs": [],
   "source": [
    "num_feats=30"
   ]
  },
  {
   "cell_type": "code",
   "execution_count": 20,
   "metadata": {},
   "outputs": [
    {
     "data": {
      "text/plain": [
       "['reading_score',\n",
       " 'writing_score',\n",
       " 'gender_female',\n",
       " 'gender_male',\n",
       " 'group_group A',\n",
       " 'group_group B',\n",
       " 'group_group C',\n",
       " 'group_group D',\n",
       " 'group_group E',\n",
       " \"education_associate's degree\",\n",
       " \"education_bachelor's degree\",\n",
       " 'education_high school',\n",
       " \"education_master's degree\",\n",
       " 'education_some college',\n",
       " 'education_some high school',\n",
       " 'lunch_free/reduced',\n",
       " 'lunch_standard',\n",
       " 'course_completation_completed',\n",
       " 'course_completation_none']"
      ]
     },
     "execution_count": 20,
     "metadata": {},
     "output_type": "execute_result"
    }
   ],
   "source": [
    "feature_name = list(X.columns)\n",
    "feature_name"
   ]
  },
  {
   "cell_type": "markdown",
   "metadata": {},
   "source": [
    "<h1>Filter based-Pearson Correlation</h1>"
   ]
  },
  {
   "cell_type": "code",
   "execution_count": 21,
   "metadata": {},
   "outputs": [
    {
     "name": "stdout",
     "output_type": "stream",
     "text": [
      "19 selected features\n"
     ]
    }
   ],
   "source": [
    "def cor_selector(X, y,num_feats):\n",
    "    cor_list = []\n",
    "    feature_name = X.columns.tolist()\n",
    "    # calculate the correlation with y for each feature\n",
    "    for i in X.columns.tolist():\n",
    "        cor = np.corrcoef(X[i], y)[0, 1]\n",
    "        cor_list.append(cor)\n",
    "    # replace NaN with 0\n",
    "    cor_list = [0 if np.isnan(i) else i for i in cor_list]\n",
    "    # feature name\n",
    "    cor_feature = X.iloc[:,np.argsort(np.abs(cor_list))[-num_feats:]].columns.tolist()\n",
    "    # feature selection? 0 for not select, 1 for select\n",
    "    cor_support = [True if i in cor_feature else False for i in feature_name]\n",
    "    return cor_support, cor_feature\n",
    "cor_support, cor_feature = cor_selector(X, y,num_feats)\n",
    "print(str(len(cor_feature)), 'selected features')"
   ]
  },
  {
   "cell_type": "code",
   "execution_count": 22,
   "metadata": {},
   "outputs": [
    {
     "data": {
      "text/plain": [
       "['education_some college',\n",
       " 'group_group B',\n",
       " 'group_group D',\n",
       " 'group_group A',\n",
       " \"education_master's degree\",\n",
       " 'group_group C',\n",
       " \"education_bachelor's degree\",\n",
       " 'education_some high school',\n",
       " \"education_associate's degree\",\n",
       " 'education_high school',\n",
       " 'gender_female',\n",
       " 'gender_male',\n",
       " 'course_completation_none',\n",
       " 'course_completation_completed',\n",
       " 'lunch_free/reduced',\n",
       " 'lunch_standard',\n",
       " 'group_group E',\n",
       " 'writing_score',\n",
       " 'reading_score']"
      ]
     },
     "execution_count": 22,
     "metadata": {},
     "output_type": "execute_result"
    }
   ],
   "source": [
    "cor_feature"
   ]
  },
  {
   "cell_type": "markdown",
   "metadata": {},
   "source": [
    "<h1>Clustering</h1>"
   ]
  },
  {
   "cell_type": "code",
   "execution_count": 4,
   "metadata": {},
   "outputs": [],
   "source": [
    "import pandas as pd\n",
    "import matplotlib.pyplot as plt\n",
    "from sklearn.cluster import KMeans"
   ]
  },
  {
   "cell_type": "code",
   "execution_count": 30,
   "metadata": {},
   "outputs": [
    {
     "data": {
      "text/html": [
       "<div>\n",
       "<style scoped>\n",
       "    .dataframe tbody tr th:only-of-type {\n",
       "        vertical-align: middle;\n",
       "    }\n",
       "\n",
       "    .dataframe tbody tr th {\n",
       "        vertical-align: top;\n",
       "    }\n",
       "\n",
       "    .dataframe thead th {\n",
       "        text-align: right;\n",
       "    }\n",
       "</style>\n",
       "<table border=\"1\" class=\"dataframe\">\n",
       "  <thead>\n",
       "    <tr style=\"text-align: right;\">\n",
       "      <th></th>\n",
       "      <th>math_score</th>\n",
       "      <th>reading_score</th>\n",
       "      <th>writing_score</th>\n",
       "      <th>gender</th>\n",
       "      <th>group</th>\n",
       "    </tr>\n",
       "  </thead>\n",
       "  <tbody>\n",
       "    <tr>\n",
       "      <th>0</th>\n",
       "      <td>72</td>\n",
       "      <td>72</td>\n",
       "      <td>74</td>\n",
       "      <td>female</td>\n",
       "      <td>group B</td>\n",
       "    </tr>\n",
       "    <tr>\n",
       "      <th>1</th>\n",
       "      <td>69</td>\n",
       "      <td>90</td>\n",
       "      <td>88</td>\n",
       "      <td>female</td>\n",
       "      <td>group C</td>\n",
       "    </tr>\n",
       "    <tr>\n",
       "      <th>2</th>\n",
       "      <td>90</td>\n",
       "      <td>95</td>\n",
       "      <td>93</td>\n",
       "      <td>female</td>\n",
       "      <td>group B</td>\n",
       "    </tr>\n",
       "    <tr>\n",
       "      <th>3</th>\n",
       "      <td>47</td>\n",
       "      <td>57</td>\n",
       "      <td>44</td>\n",
       "      <td>male</td>\n",
       "      <td>group A</td>\n",
       "    </tr>\n",
       "    <tr>\n",
       "      <th>4</th>\n",
       "      <td>76</td>\n",
       "      <td>78</td>\n",
       "      <td>75</td>\n",
       "      <td>male</td>\n",
       "      <td>group C</td>\n",
       "    </tr>\n",
       "  </tbody>\n",
       "</table>\n",
       "</div>"
      ],
      "text/plain": [
       "   math_score  reading_score  writing_score  gender    group\n",
       "0          72             72             74  female  group B\n",
       "1          69             90             88  female  group C\n",
       "2          90             95             93  female  group B\n",
       "3          47             57             44    male  group A\n",
       "4          76             78             75    male  group C"
      ]
     },
     "execution_count": 30,
     "metadata": {},
     "output_type": "execute_result"
    }
   ],
   "source": [
    "stdn = std.iloc[:, 0:5]\n",
    "stdn.head()"
   ]
  },
  {
   "cell_type": "code",
   "execution_count": 31,
   "metadata": {},
   "outputs": [],
   "source": [
    "from sklearn.preprocessing import LabelEncoder\n",
    "\n",
    "lb = LabelEncoder()\n",
    "\n",
    "stdn['group'] = lb.fit_transform(stdn['group'])"
   ]
  },
  {
   "cell_type": "code",
   "execution_count": 33,
   "metadata": {},
   "outputs": [
    {
     "data": {
      "text/html": [
       "<div>\n",
       "<style scoped>\n",
       "    .dataframe tbody tr th:only-of-type {\n",
       "        vertical-align: middle;\n",
       "    }\n",
       "\n",
       "    .dataframe tbody tr th {\n",
       "        vertical-align: top;\n",
       "    }\n",
       "\n",
       "    .dataframe thead th {\n",
       "        text-align: right;\n",
       "    }\n",
       "</style>\n",
       "<table border=\"1\" class=\"dataframe\">\n",
       "  <thead>\n",
       "    <tr style=\"text-align: right;\">\n",
       "      <th></th>\n",
       "      <th>math_score</th>\n",
       "      <th>reading_score</th>\n",
       "      <th>writing_score</th>\n",
       "      <th>group</th>\n",
       "    </tr>\n",
       "  </thead>\n",
       "  <tbody>\n",
       "    <tr>\n",
       "      <th>0</th>\n",
       "      <td>72</td>\n",
       "      <td>72</td>\n",
       "      <td>74</td>\n",
       "      <td>1</td>\n",
       "    </tr>\n",
       "    <tr>\n",
       "      <th>1</th>\n",
       "      <td>69</td>\n",
       "      <td>90</td>\n",
       "      <td>88</td>\n",
       "      <td>2</td>\n",
       "    </tr>\n",
       "    <tr>\n",
       "      <th>2</th>\n",
       "      <td>90</td>\n",
       "      <td>95</td>\n",
       "      <td>93</td>\n",
       "      <td>1</td>\n",
       "    </tr>\n",
       "    <tr>\n",
       "      <th>3</th>\n",
       "      <td>47</td>\n",
       "      <td>57</td>\n",
       "      <td>44</td>\n",
       "      <td>0</td>\n",
       "    </tr>\n",
       "    <tr>\n",
       "      <th>4</th>\n",
       "      <td>76</td>\n",
       "      <td>78</td>\n",
       "      <td>75</td>\n",
       "      <td>2</td>\n",
       "    </tr>\n",
       "  </tbody>\n",
       "</table>\n",
       "</div>"
      ],
      "text/plain": [
       "   math_score  reading_score  writing_score  group\n",
       "0          72             72             74      1\n",
       "1          69             90             88      2\n",
       "2          90             95             93      1\n",
       "3          47             57             44      0\n",
       "4          76             78             75      2"
      ]
     },
     "execution_count": 33,
     "metadata": {},
     "output_type": "execute_result"
    }
   ],
   "source": [
    "stdn = stdn.drop(['gender'], axis=1)\n",
    "stdn.head()"
   ]
  },
  {
   "cell_type": "code",
   "execution_count": 26,
   "metadata": {},
   "outputs": [
    {
     "data": {
      "text/plain": [
       "<matplotlib.axes._subplots.AxesSubplot at 0xbfb5e80>"
      ]
     },
     "execution_count": 26,
     "metadata": {},
     "output_type": "execute_result"
    },
    {
     "data": {
      "image/png": "[encoded data removed]",
      "text/plain": [
       "<matplotlib.figure.Figure at 0x857c630>"
      ]
     },
     "metadata": {},
     "output_type": "display_data"
    }
   ],
   "source": [
    "import seaborn as sns\n",
    "sns.scatterplot(x=\"group\", y=\"writing_score\", data=stdn)"
   ]
  },
  {
   "cell_type": "code",
   "execution_count": 34,
   "metadata": {},
   "outputs": [
    {
     "name": "stdout",
     "output_type": "stream",
     "text": [
      "[[72 72 74  1]\n",
      " [69 90 88  2]\n",
      " [90 95 93  1]\n",
      " ...\n",
      " [59 71 65  2]\n",
      " [68 78 77  3]\n",
      " [77 86 86  3]]\n"
     ]
    }
   ],
   "source": [
    "import numpy as np\n",
    "x_array = np.array(stdn)\n",
    "print(x_array)"
   ]
  },
  {
   "cell_type": "code",
   "execution_count": 35,
   "metadata": {},
   "outputs": [
    {
     "data": {
      "text/plain": [
       "array([[0.72      , 0.6626506 , 0.71111111, 0.25      ],\n",
       "       [0.69      , 0.87951807, 0.86666667, 0.5       ],\n",
       "       [0.9       , 0.93975904, 0.92222222, 0.25      ],\n",
       "       ...,\n",
       "       [0.59      , 0.65060241, 0.61111111, 0.5       ],\n",
       "       [0.68      , 0.73493976, 0.74444444, 0.75      ],\n",
       "       [0.77      , 0.8313253 , 0.84444444, 0.75      ]])"
      ]
     },
     "execution_count": 35,
     "metadata": {},
     "output_type": "execute_result"
    }
   ],
   "source": [
    "from sklearn.preprocessing import MinMaxScaler\n",
    "scaler = MinMaxScaler()\n",
    "x_scaled = scaler.fit_transform(x_array)\n",
    "x_scaled"
   ]
  },
  {
   "cell_type": "code",
   "execution_count": 37,
   "metadata": {},
   "outputs": [
    {
     "data": {
      "text/plain": [
       "KMeans(n_clusters=4, random_state=123)"
      ]
     },
     "execution_count": 37,
     "metadata": {},
     "output_type": "execute_result"
    }
   ],
   "source": [
    "#Konfigurasi\n",
    "kmeans = KMeans(n_clusters = 4, random_state=123)\n",
    "#Ambil Kluster dari data\n",
    "kmeans.fit(x_scaled)"
   ]
  },
  {
   "cell_type": "code",
   "execution_count": 38,
   "metadata": {},
   "outputs": [
    {
     "name": "stdout",
     "output_type": "stream",
     "text": [
      "[[0.5321374  0.46693645 0.4908821  0.65171756]\n",
      " [0.7419661  0.75278742 0.76060264 0.39152542]\n",
      " [0.76940959 0.74209754 0.75817958 0.85332103]\n",
      " [0.54697674 0.48269823 0.50342377 0.15116279]]\n"
     ]
    }
   ],
   "source": [
    "center = kmeans.cluster_centers_\n",
    "print(center)"
   ]
  },
  {
   "cell_type": "code",
   "execution_count": 39,
   "metadata": {},
   "outputs": [
    {
     "name": "stdout",
     "output_type": "stream",
     "text": [
      "[1 1 1 3 1 1 1 3 0 3 0 0 1 3 3 1 1 3 0 0 0 1 0 1 2 3 3 1 1 2 2 3 2 0 2 2 2\n",
      " 0 2 3 0 1 3 3 0 3 3 1 2 1 0 2 0 2 1 0 2 0 0 0 2 3 3 1 0 3 0 1 3 0 0 0 3 0\n",
      " 0 3 0 1 2 2 3 3 3 2 0 1 1 2 3 2 1 0 1 0 1 1 3 2 0 0 1 2 2 3 1 1 2 2 1 1 2\n",
      " 0 3 0 2 1 1 2 0 0 1 1 1 0 2 1 1 2 2 3 2 0 2 1 2 0 3 0 0 2 2 0 0 3 2 0 1 1\n",
      " 2 2 3 3 3 0 0 1 2 3 1 0 1 2 3 0 2 1 0 1 1 1 3 2 2 1 0 1 3 1 3 2 1 0 0 2 0\n",
      " 1 2 0 3 1 2 2 3 0 1 0 0 0 3 1 1 2 1 3 0 2 2 2 1 3 2 0 0 0 2 1 2 0 1 3 2 1\n",
      " 0 2 3 0 1 0 3 1 2 0 1 2 1 2 0 0 3 1 2 2 0 0 2 1 2 3 3 0 3 2 1 2 0 2 1 1 1\n",
      " 1 1 1 0 2 2 0 1 2 2 2 0 0 0 2 1 1 1 2 1 3 0 0 2 2 3 1 2 1 1 2 1 2 0 2 2 3\n",
      " 3 2 0 2 1 0 1 1 1 3 2 0 3 0 1 3 0 1 1 1 2 1 1 0 1 2 1 0 0 1 0 3 1 3 0 0 0\n",
      " 1 1 3 2 0 3 0 0 1 1 2 2 1 3 1 2 2 3 0 1 0 1 1 3 0 0 2 3 1 0 0 0 3 0 0 3 2\n",
      " 2 0 2 2 2 0 2 2 1 3 1 1 1 0 3 2 2 1 0 2 2 2 2 0 1 3 3 1 3 0 0 3 3 2 0 1 3\n",
      " 1 0 2 2 2 0 3 1 2 1 1 0 0 1 0 0 1 3 0 1 1 3 0 0 1 0 3 1 0 2 2 0 2 1 2 3 1\n",
      " 1 1 0 1 3 1 1 2 1 0 0 0 2 0 2 1 0 3 2 1 3 1 0 3 1 1 1 1 1 0 1 2 2 2 0 2 1\n",
      " 0 1 3 3 1 0 1 3 1 1 1 1 1 3 0 0 2 1 2 2 1 0 2 0 1 3 3 1 1 2 3 0 3 1 1 2 2\n",
      " 2 1 0 1 0 0 0 2 0 0 0 1 1 0 0 2 1 1 0 0 2 1 1 2 1 2 0 2 1 1 0 1 1 1 3 2 0\n",
      " 0 1 0 3 2 2 1 1 2 3 3 2 2 3 2 1 1 0 0 2 3 3 1 3 0 2 2 2 2 2 1 3 0 0 3 0 3\n",
      " 2 2 1 1 3 3 2 2 0 0 2 0 2 1 1 0 2 3 0 0 1 1 1 1 0 2 2 1 0 3 0 1 0 2 3 0 0\n",
      " 0 2 3 1 1 2 3 1 2 2 2 0 2 1 2 3 1 0 2 3 2 0 1 2 3 1 3 1 0 0 2 1 1 0 1 2 0\n",
      " 1 1 1 2 1 0 1 1 2 3 2 1 2 0 2 3 3 0 3 2 2 2 3 2 0 2 1 2 0 2 1 3 2 0 2 3 1\n",
      " 0 3 3 0 0 2 0 1 2 2 2 1 1 1 1 1 2 1 0 1 0 3 2 2 0 2 0 1 3 1 0 0 0 1 3 2 0\n",
      " 2 3 1 1 3 2 2 1 0 1 2 2 1 1 0 2 0 2 0 1 0 0 2 3 0 1 1 3 2 3 3 2 3 1 3 3 1\n",
      " 0 1 2 0 1 1 0 1 3 2 3 0 0 3 0 2 2 3 2 2 2 0 0 1 1 2 1 1 1 2 0 1 3 3 3 0 2\n",
      " 1 1 3 2 1 1 1 2 0 1 0 0 1 1 2 3 3 1 3 1 3 1 2 1 3 1 0 0 3 1 0 2 1 0 1 2 1\n",
      " 3 2 2 0 1 1 1 3 1 0 2 0 1 1 2 0 3 2 0 3 1 1 2 0 1 2 0 2 2 0 2 1 0 0 1 2 0\n",
      " 2 0 2 2 3 2 2 0 3 1 0 2 2 1 3 2 2 2 3 2 1 2 0 1 0 0 3 2 2 0 1 1 2 0 2 3 2\n",
      " 2 0 0 0 0 1 0 2 1 1 0 3 0 2 2 1 2 1 3 3 0 1 0 3 2 2 2 2 0 1 2 1 2 0 1 3 0\n",
      " 2 1 0 2 3 0 2 1 2 1 3 0 3 1 3 0 0 1 3 2 1 1 1 3 0 2 3 2 2 1 2 2 3 2 0 1 2\n",
      " 2]\n"
     ]
    }
   ],
   "source": [
    "label = kmeans.labels_\n",
    "print (label)"
   ]
  },
  {
   "cell_type": "code",
   "execution_count": 41,
   "metadata": {},
   "outputs": [
    {
     "data": {
      "text/html": [
       "<div>\n",
       "<style scoped>\n",
       "    .dataframe tbody tr th:only-of-type {\n",
       "        vertical-align: middle;\n",
       "    }\n",
       "\n",
       "    .dataframe tbody tr th {\n",
       "        vertical-align: top;\n",
       "    }\n",
       "\n",
       "    .dataframe thead th {\n",
       "        text-align: right;\n",
       "    }\n",
       "</style>\n",
       "<table border=\"1\" class=\"dataframe\">\n",
       "  <thead>\n",
       "    <tr style=\"text-align: right;\">\n",
       "      <th></th>\n",
       "      <th>math_score</th>\n",
       "      <th>reading_score</th>\n",
       "      <th>writing_score</th>\n",
       "      <th>gender</th>\n",
       "      <th>group</th>\n",
       "      <th>education</th>\n",
       "      <th>lunch</th>\n",
       "      <th>course_completation</th>\n",
       "      <th>kluster</th>\n",
       "    </tr>\n",
       "  </thead>\n",
       "  <tbody>\n",
       "    <tr>\n",
       "      <th>0</th>\n",
       "      <td>72</td>\n",
       "      <td>72</td>\n",
       "      <td>74</td>\n",
       "      <td>female</td>\n",
       "      <td>group B</td>\n",
       "      <td>bachelor's degree</td>\n",
       "      <td>standard</td>\n",
       "      <td>none</td>\n",
       "      <td>1</td>\n",
       "    </tr>\n",
       "    <tr>\n",
       "      <th>1</th>\n",
       "      <td>69</td>\n",
       "      <td>90</td>\n",
       "      <td>88</td>\n",
       "      <td>female</td>\n",
       "      <td>group C</td>\n",
       "      <td>some college</td>\n",
       "      <td>standard</td>\n",
       "      <td>completed</td>\n",
       "      <td>1</td>\n",
       "    </tr>\n",
       "    <tr>\n",
       "      <th>2</th>\n",
       "      <td>90</td>\n",
       "      <td>95</td>\n",
       "      <td>93</td>\n",
       "      <td>female</td>\n",
       "      <td>group B</td>\n",
       "      <td>master's degree</td>\n",
       "      <td>standard</td>\n",
       "      <td>none</td>\n",
       "      <td>1</td>\n",
       "    </tr>\n",
       "    <tr>\n",
       "      <th>3</th>\n",
       "      <td>47</td>\n",
       "      <td>57</td>\n",
       "      <td>44</td>\n",
       "      <td>male</td>\n",
       "      <td>group A</td>\n",
       "      <td>associate's degree</td>\n",
       "      <td>free/reduced</td>\n",
       "      <td>none</td>\n",
       "      <td>3</td>\n",
       "    </tr>\n",
       "    <tr>\n",
       "      <th>4</th>\n",
       "      <td>76</td>\n",
       "      <td>78</td>\n",
       "      <td>75</td>\n",
       "      <td>male</td>\n",
       "      <td>group C</td>\n",
       "      <td>some college</td>\n",
       "      <td>standard</td>\n",
       "      <td>none</td>\n",
       "      <td>1</td>\n",
       "    </tr>\n",
       "  </tbody>\n",
       "</table>\n",
       "</div>"
      ],
      "text/plain": [
       "   math_score  reading_score  writing_score  gender    group  \\\n",
       "0          72             72             74  female  group B   \n",
       "1          69             90             88  female  group C   \n",
       "2          90             95             93  female  group B   \n",
       "3          47             57             44    male  group A   \n",
       "4          76             78             75    male  group C   \n",
       "\n",
       "            education         lunch course_completation  kluster  \n",
       "0   bachelor's degree      standard                none        1  \n",
       "1        some college      standard           completed        1  \n",
       "2     master's degree      standard                none        1  \n",
       "3  associate's degree  free/reduced                none        3  \n",
       "4        some college      standard                none        1  "
      ]
     },
     "execution_count": 41,
     "metadata": {},
     "output_type": "execute_result"
    }
   ],
   "source": [
    "std[\"kluster\"] = kmeans.labels_\n",
    "std.head()"
   ]
  },
  {
   "cell_type": "code",
   "execution_count": 42,
   "metadata": {},
   "outputs": [
    {
     "data": {
      "image/png": "[encoded data removed]",
      "text/plain": [
       "<matplotlib.figure.Figure at 0x81dd2e8>"
      ]
     },
     "metadata": {},
     "output_type": "display_data"
    }
   ],
   "source": [
    "fig, ax = plt.subplots()\n",
    "sct = ax.scatter(x_scaled[:,1], x_scaled[:,0], s = 100,\n",
    "c = std.kluster, marker = \"o\", alpha = 0.5)\n",
    "centers = kmeans.cluster_centers_\n",
    "ax.scatter(centers[:,1], centers[:,0], c='blue', s=200, alpha=0.5)\n",
    "plt.title(\"K-Means dengan 4 Cluster\")\n",
    "plt.xlabel(\"Wrtiting Score\")\n",
    "plt.ylabel(\"Group\")\n",
    "plt.show()"
   ]
  },
  {
   "cell_type": "code",
   "execution_count": 43,
   "metadata": {},
   "outputs": [],
   "source": [
    "from scipy.spatial.distance import cdist"
   ]
  },
  {
   "cell_type": "code",
   "execution_count": 44,
   "metadata": {},
   "outputs": [],
   "source": [
    "distorsi = [] \n",
    "inersia = [] \n",
    "n1 = {} \n",
    "n2 = {} \n",
    "K = range(1,11) \n",
    "  \n",
    "for k in K:\n",
    "    kmeans = KMeans(n_clusters=k).fit(x_scaled) \n",
    "    kmeans.fit(x_scaled) \n",
    "    distorsi.append(sum(np.min(cdist(x_scaled, kmeans.cluster_centers_, 'euclidean'),axis=1)) / x_scaled.shape[0]) \n",
    "    inersia.append(kmeans.inertia_)   \n",
    "    n1[k] = sum(np.min(cdist(x_scaled, kmeans.cluster_centers_, 'euclidean'),axis=1)) / x_scaled.shape[0] \n",
    "    n2[k] = kmeans.inertia_ "
   ]
  },
  {
   "cell_type": "code",
   "execution_count": 45,
   "metadata": {},
   "outputs": [
    {
     "name": "stdout",
     "output_type": "stream",
     "text": [
      "Iterasi 1 : 0.36893738178721497\n",
      "Iterasi 2 : 0.291988052525269\n",
      "Iterasi 3 : 0.25041860736939664\n",
      "Iterasi 4 : 0.22053393719830683\n",
      "Iterasi 5 : 0.20486646695238278\n",
      "Iterasi 6 : 0.19128937216113787\n",
      "Iterasi 7 : 0.180051646675036\n",
      "Iterasi 8 : 0.16716334446891942\n",
      "Iterasi 9 : 0.15764333105577294\n",
      "Iterasi 10 : 0.14779968337447433\n"
     ]
    }
   ],
   "source": [
    "for key,val in n1.items(): \n",
    "    print('Iterasi '+str(key)+' : '+str(val))"
   ]
  },
  {
   "cell_type": "code",
   "execution_count": 46,
   "metadata": {},
   "outputs": [
    {
     "data": {
      "image/png": "[encoded data removed]",
      "text/plain": [
       "<matplotlib.figure.Figure at 0xc10ad30>"
      ]
     },
     "metadata": {},
     "output_type": "display_data"
    }
   ],
   "source": [
    "plt.plot(K, distorsi, 'bx-') \n",
    "plt.xlabel('Nilai K') \n",
    "plt.ylabel('Distorsi') \n",
    "plt.title('Elbow dengan Metode Distorsi') \n",
    "plt.show() "
   ]
  },
  {
   "cell_type": "code",
   "execution_count": null,
   "metadata": {},
   "outputs": [],
   "source": []
  }
 ],
 "metadata": {
  "kernelspec": {
   "display_name": "Python 3",
   "language": "python",
   "name": "python3"
  },
  "language_info": {
   "codemirror_mode": {
    "name": "ipython",
    "version": 3
   },
   "file_extension": ".py",
   "mimetype": "text/x-python",
   "name": "python",
   "nbconvert_exporter": "python",
   "pygments_lexer": "ipython3",
   "version": "3.6.4"
  }
 },
 "nbformat": 4,
 "nbformat_minor": 2
}
